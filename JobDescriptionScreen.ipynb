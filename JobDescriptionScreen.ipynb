{
  "nbformat": 4,
  "nbformat_minor": 0,
  "metadata": {
    "colab": {
      "name": "JobDescriptionScreen.ipynb",
      "provenance": []
    },
    "kernelspec": {
      "name": "python3",
      "display_name": "Python 3"
    },
    "accelerator": "GPU"
  },
  "cells": [
    {
      "cell_type": "markdown",
      "metadata": {
        "id": "S70-Gw3GnwYz",
        "colab_type": "text"
      },
      "source": [
        "### Job description screening by NLP\n",
        "Chiyuan Cheng\n",
        "- load job description in google sheet and find the matching keywords by NLP\n",
        "- A small project for information extraction\n"
      ]
    },
    {
      "cell_type": "code",
      "metadata": {
        "id": "BVGkWqYpl4zX",
        "colab_type": "code",
        "colab": {}
      },
      "source": [
        "#importing all required libraries\n",
        "from google.colab import auth\n",
        "auth.authenticate_user()\n",
        "import gspread\n",
        "from oauth2client.client import GoogleCredentials\n",
        "gc = gspread.authorize(GoogleCredentials.get_application_default())"
      ],
      "execution_count": 0,
      "outputs": []
    },
    {
      "cell_type": "code",
      "metadata": {
        "id": "ZQfdNyFJmqvM",
        "colab_type": "code",
        "colab": {}
      },
      "source": [
        "#import PyPDF2\n",
        "import os\n",
        "from os import listdir\n",
        "from os.path import isfile, join\n",
        "from io import StringIO\n",
        "\n",
        "import spacy #use NLP functions\n",
        "from spacy import displacy\n",
        "import en_core_web_sm # pre-train model\n",
        "nlp = en_core_web_sm.load()\n",
        "from spacy.matcher import PhraseMatcher\n",
        "import nltk #NLP data processing library (IMDB)\n",
        "from nltk import word_tokenize, sent_tokenize\n",
        "from nltk.corpus import stopwords\n",
        "from nltk.stem.porter import *\n",
        "import gensim\n",
        "from gensim.models.word2vec import Word2Vec\n",
        "from gensim.models.phrases import Phraser, Phrases # phraser optimizes phrases\n",
        "\n",
        "import re\n",
        "\n",
        "import numpy as np\n",
        "import pandas as pd\n",
        "import matplotlib.pyplot as plt\n",
        "\n",
        "import string\n",
        "from gensim.models.phrases import Phraser, Phrases # phraser optimizes phrases\n",
        "from keras.preprocessing.text import one_hot # relation\n",
        "from textblob import TextBlob\n",
        "\n",
        "from sklearn.manifold import TSNE\n",
        "from bokeh.io import output_notebook, output_file\n",
        "from bokeh.plotting import show, figure\n",
        "\n",
        "from keras.preprocessing.text import one_hot # relation\n",
        "from collections import Counter"
      ],
      "execution_count": 0,
      "outputs": []
    },
    {
      "cell_type": "markdown",
      "metadata": {
        "id": "44ZKeSh1P4Dw",
        "colab_type": "text"
      },
      "source": [
        "#### Load data"
      ]
    },
    {
      "cell_type": "code",
      "metadata": {
        "id": "h_QZKnVgm_wu",
        "colab_type": "code",
        "colab": {}
      },
      "source": [
        "# load data from google sheet\n",
        "wb = gc.open_by_url('https://docs.google.com/spreadsheets/d/1_7xr5Wfe1Zxz31fRAg4HxM7579p7pLyv2DQeynqAeNQ/edit?folder=1Zdk9qp8mD6x93sdLr14SMf-iczSrlrsP#gid=0')"
      ],
      "execution_count": 0,
      "outputs": []
    },
    {
      "cell_type": "code",
      "metadata": {
        "id": "v1q7etvanhNp",
        "colab_type": "code",
        "colab": {}
      },
      "source": [
        "def load_googlesheet(sheetname):\n",
        "  '''\n",
        "  input sheetname\n",
        "  output pd.dataframe\n",
        "  '''\n",
        "  sheet = wb.worksheet(sheetname) # sheet name\n",
        "  data = sheet.get_all_values() # load sheet\n",
        "  df = pd.DataFrame(data)\n",
        "  df.columns = df.iloc[0]\n",
        "  df = df.iloc[1:]\n",
        "  df=df.reset_index(drop=True)\n",
        "  return df"
      ],
      "execution_count": 0,
      "outputs": []
    },
    {
      "cell_type": "code",
      "metadata": {
        "id": "7ooYXR_TPVvn",
        "colab_type": "code",
        "colab": {}
      },
      "source": [
        "# data for job discription\n",
        "df_jd = load_googlesheet('Sheet1')\n",
        "# data for keywords\n",
        "df_kw = load_googlesheet('keywords')"
      ],
      "execution_count": 0,
      "outputs": []
    },
    {
      "cell_type": "code",
      "metadata": {
        "id": "P9ySbvi8Mbvp",
        "colab_type": "code",
        "outputId": "9a72ae7b-3382-4dd4-899f-fbdf49394e1a",
        "colab": {
          "base_uri": "https://localhost:8080/",
          "height": 420
        }
      },
      "source": [
        "display(df_jd.head(3))\n",
        "display(df_kw.head(3))"
      ],
      "execution_count": 87,
      "outputs": [
        {
          "output_type": "display_data",
          "data": {
            "text/html": [
              "<div>\n",
              "<style scoped>\n",
              "    .dataframe tbody tr th:only-of-type {\n",
              "        vertical-align: middle;\n",
              "    }\n",
              "\n",
              "    .dataframe tbody tr th {\n",
              "        vertical-align: top;\n",
              "    }\n",
              "\n",
              "    .dataframe thead th {\n",
              "        text-align: right;\n",
              "    }\n",
              "</style>\n",
              "<table border=\"1\" class=\"dataframe\">\n",
              "  <thead>\n",
              "    <tr style=\"text-align: right;\">\n",
              "      <th></th>\n",
              "      <th>Financial</th>\n",
              "      <th>Healthcare</th>\n",
              "      <th>e-com</th>\n",
              "      <th>social media</th>\n",
              "      <th>consumer</th>\n",
              "      <th>Information</th>\n",
              "    </tr>\n",
              "  </thead>\n",
              "  <tbody>\n",
              "    <tr>\n",
              "      <th>0</th>\n",
              "      <td>Two Sigma, The Alpha Insights team at Two Sigm...</td>\n",
              "      <td>Novo Nordisk, The Clinical, Medical and Regula...</td>\n",
              "      <td>Walmart Position Description\\n\\nA Staff Data S...</td>\n",
              "      <td>Facebook, We’re looking for Data Scientists to...</td>\n",
              "      <td>Uniliever, Background &amp; Purpose of the Job\\n\\n...</td>\n",
              "      <td>Google, Note: By applying to this position you...</td>\n",
              "    </tr>\n",
              "    <tr>\n",
              "      <th>1</th>\n",
              "      <td>Prudential Financial,\\n\\nAs we create a divers...</td>\n",
              "      <td>Aetna, Description:\\r\\nIt’s a new day in healt...</td>\n",
              "      <td>Walmart, As a part of Walmart’s Customer Data ...</td>\n",
              "      <td>Facebook, With over 2.1 billion people, our co...</td>\n",
              "      <td></td>\n",
              "      <td></td>\n",
              "    </tr>\n",
              "    <tr>\n",
              "      <th>2</th>\n",
              "      <td>Machine Learning Research Scientist - Pattern ...</td>\n",
              "      <td>Blink Health, Blink Health ( https://www.blink...</td>\n",
              "      <td>Amazon, Description\\r\\n\\r\\nAre you seeking an ...</td>\n",
              "      <td>New York Times, The New York Times is a techno...</td>\n",
              "      <td></td>\n",
              "      <td></td>\n",
              "    </tr>\n",
              "  </tbody>\n",
              "</table>\n",
              "</div>"
            ],
            "text/plain": [
              "0                                          Financial  ...                                        Information\n",
              "0  Two Sigma, The Alpha Insights team at Two Sigm...  ...  Google, Note: By applying to this position you...\n",
              "1  Prudential Financial,\\n\\nAs we create a divers...  ...                                                   \n",
              "2  Machine Learning Research Scientist - Pattern ...  ...                                                   \n",
              "\n",
              "[3 rows x 6 columns]"
            ]
          },
          "metadata": {
            "tags": []
          }
        },
        {
          "output_type": "display_data",
          "data": {
            "text/html": [
              "<div>\n",
              "<style scoped>\n",
              "    .dataframe tbody tr th:only-of-type {\n",
              "        vertical-align: middle;\n",
              "    }\n",
              "\n",
              "    .dataframe tbody tr th {\n",
              "        vertical-align: top;\n",
              "    }\n",
              "\n",
              "    .dataframe thead th {\n",
              "        text-align: right;\n",
              "    }\n",
              "</style>\n",
              "<table border=\"1\" class=\"dataframe\">\n",
              "  <thead>\n",
              "    <tr style=\"text-align: right;\">\n",
              "      <th></th>\n",
              "      <th>statistics</th>\n",
              "      <th>machine learning</th>\n",
              "      <th>deep learning</th>\n",
              "      <th>python langugage</th>\n",
              "      <th>R language</th>\n",
              "      <th>nlp</th>\n",
              "      <th>data engineering</th>\n",
              "      <th>visualization</th>\n",
              "      <th>soft skills</th>\n",
              "    </tr>\n",
              "  </thead>\n",
              "  <tbody>\n",
              "    <tr>\n",
              "      <th>0</th>\n",
              "      <td>statistical models</td>\n",
              "      <td>linear regression</td>\n",
              "      <td>neural network</td>\n",
              "      <td>flask</td>\n",
              "      <td>R</td>\n",
              "      <td>natural language processing</td>\n",
              "      <td>aws</td>\n",
              "      <td>matplotlib</td>\n",
              "      <td>Communication</td>\n",
              "    </tr>\n",
              "    <tr>\n",
              "      <th>1</th>\n",
              "      <td>statistical modeling</td>\n",
              "      <td>logestic regression</td>\n",
              "      <td>keras</td>\n",
              "      <td>pandas</td>\n",
              "      <td>ggplot</td>\n",
              "      <td>topic modeling</td>\n",
              "      <td>ecs</td>\n",
              "      <td>seaborn</td>\n",
              "      <td>experience</td>\n",
              "    </tr>\n",
              "    <tr>\n",
              "      <th>2</th>\n",
              "      <td>probability</td>\n",
              "      <td>k means</td>\n",
              "      <td>theano</td>\n",
              "      <td>numpy</td>\n",
              "      <td>shiny</td>\n",
              "      <td>lda</td>\n",
              "      <td>amazon redshift</td>\n",
              "      <td>visualization</td>\n",
              "      <td>outside the box</td>\n",
              "    </tr>\n",
              "  </tbody>\n",
              "</table>\n",
              "</div>"
            ],
            "text/plain": [
              "0            statistics     machine learning  ...  visualization      soft skills\n",
              "0    statistical models    linear regression  ...     matplotlib    Communication\n",
              "1  statistical modeling  logestic regression  ...        seaborn       experience\n",
              "2           probability              k means  ...  visualization  outside the box\n",
              "\n",
              "[3 rows x 9 columns]"
            ]
          },
          "metadata": {
            "tags": []
          }
        }
      ]
    },
    {
      "cell_type": "markdown",
      "metadata": {
        "id": "BFELn4z9P6iI",
        "colab_type": "text"
      },
      "source": [
        "#### Text Preprocessing"
      ]
    },
    {
      "cell_type": "code",
      "metadata": {
        "id": "4ur66_Ux2lpV",
        "colab_type": "code",
        "colab": {}
      },
      "source": [
        "df_clean = df_jd.copy()"
      ],
      "execution_count": 0,
      "outputs": []
    },
    {
      "cell_type": "code",
      "metadata": {
        "id": "_DAb3JwQn8YM",
        "colab_type": "code",
        "colab": {}
      },
      "source": [
        "# remove punctuations and lowercase\n",
        "result_punctuation = string.punctuation + str('\\n') + str('\\r')\n",
        "for names in df_clean.columns:\n",
        "  for i in range(df_clean[names].shape[0]):\n",
        "    for char in df_clean[names][i]:\n",
        "      if char in result_punctuation:\n",
        "        df_clean[names][i] = df_clean[names][i].replace(char, \" \").lower()#"
      ],
      "execution_count": 0,
      "outputs": []
    },
    {
      "cell_type": "code",
      "metadata": {
        "id": "K6ugCIKBmoO6",
        "colab_type": "code",
        "colab": {
          "base_uri": "https://localhost:8080/",
          "height": 306
        },
        "outputId": "d32eeb26-d907-4376-fee7-3ce7fa8383a2"
      },
      "source": [
        "df_clean.head()"
      ],
      "execution_count": 125,
      "outputs": [
        {
          "output_type": "execute_result",
          "data": {
            "text/html": [
              "<div>\n",
              "<style scoped>\n",
              "    .dataframe tbody tr th:only-of-type {\n",
              "        vertical-align: middle;\n",
              "    }\n",
              "\n",
              "    .dataframe tbody tr th {\n",
              "        vertical-align: top;\n",
              "    }\n",
              "\n",
              "    .dataframe thead th {\n",
              "        text-align: right;\n",
              "    }\n",
              "</style>\n",
              "<table border=\"1\" class=\"dataframe\">\n",
              "  <thead>\n",
              "    <tr style=\"text-align: right;\">\n",
              "      <th></th>\n",
              "      <th>Financial</th>\n",
              "      <th>Healthcare</th>\n",
              "      <th>e-com</th>\n",
              "      <th>social media</th>\n",
              "      <th>consumer</th>\n",
              "      <th>Information</th>\n",
              "    </tr>\n",
              "  </thead>\n",
              "  <tbody>\n",
              "    <tr>\n",
              "      <th>0</th>\n",
              "      <td>two sigma  the alpha insights team at two sigm...</td>\n",
              "      <td>novo nordisk  the clinical  medical and regula...</td>\n",
              "      <td>walmart position description  a staff data sci...</td>\n",
              "      <td>facebook  we’re looking for data scientists to...</td>\n",
              "      <td>uniliever  background   purpose of the job  as...</td>\n",
              "      <td>google  note  by applying to this position you...</td>\n",
              "    </tr>\n",
              "    <tr>\n",
              "      <th>1</th>\n",
              "      <td>prudential financial   as we create a diverse ...</td>\n",
              "      <td>aetna  description   it’s a new day in health ...</td>\n",
              "      <td>walmart  as a part of walmart’s customer data ...</td>\n",
              "      <td>facebook  with over 2 1 billion people  our co...</td>\n",
              "      <td></td>\n",
              "      <td></td>\n",
              "    </tr>\n",
              "    <tr>\n",
              "      <th>2</th>\n",
              "      <td>machine learning research scientist   pattern ...</td>\n",
              "      <td>blink health  blink health   https   www blink...</td>\n",
              "      <td>amazon  description    are you seeking an envi...</td>\n",
              "      <td>new york times  the new york times is a techno...</td>\n",
              "      <td></td>\n",
              "      <td></td>\n",
              "    </tr>\n",
              "    <tr>\n",
              "      <th>3</th>\n",
              "      <td>venmo  about us  venmo was founded on the prin...</td>\n",
              "      <td>oscar  hi  we re oscar  we re hiring a data sc...</td>\n",
              "      <td>amazon  description    amazon is looking for a...</td>\n",
              "      <td>wolters kluwer  data scientist – r0006015  wol...</td>\n",
              "      <td></td>\n",
              "      <td></td>\n",
              "    </tr>\n",
              "    <tr>\n",
              "      <th>4</th>\n",
              "      <td>sofi  who we are  sofi is a digital personal f...</td>\n",
              "      <td>oscar  hi  we re oscar  we re hiring a data sc...</td>\n",
              "      <td>amazon  where will amazon s growth come from i...</td>\n",
              "      <td>bloomberg  news and social media move financia...</td>\n",
              "      <td></td>\n",
              "      <td></td>\n",
              "    </tr>\n",
              "  </tbody>\n",
              "</table>\n",
              "</div>"
            ],
            "text/plain": [
              "0                                          Financial  ...                                        Information\n",
              "0  two sigma  the alpha insights team at two sigm...  ...  google  note  by applying to this position you...\n",
              "1  prudential financial   as we create a diverse ...  ...                                                   \n",
              "2  machine learning research scientist   pattern ...  ...                                                   \n",
              "3  venmo  about us  venmo was founded on the prin...  ...                                                   \n",
              "4  sofi  who we are  sofi is a digital personal f...  ...                                                   \n",
              "\n",
              "[5 rows x 6 columns]"
            ]
          },
          "metadata": {
            "tags": []
          },
          "execution_count": 125
        }
      ]
    },
    {
      "cell_type": "code",
      "metadata": {
        "id": "2KZ7qwvKWnYM",
        "colab_type": "code",
        "colab": {
          "base_uri": "https://localhost:8080/",
          "height": 306
        },
        "outputId": "4a68c871-c755-4e91-cbaa-084b30f56136"
      },
      "source": [
        "df_clean.head()"
      ],
      "execution_count": 140,
      "outputs": [
        {
          "output_type": "execute_result",
          "data": {
            "text/html": [
              "<div>\n",
              "<style scoped>\n",
              "    .dataframe tbody tr th:only-of-type {\n",
              "        vertical-align: middle;\n",
              "    }\n",
              "\n",
              "    .dataframe tbody tr th {\n",
              "        vertical-align: top;\n",
              "    }\n",
              "\n",
              "    .dataframe thead th {\n",
              "        text-align: right;\n",
              "    }\n",
              "</style>\n",
              "<table border=\"1\" class=\"dataframe\">\n",
              "  <thead>\n",
              "    <tr style=\"text-align: right;\">\n",
              "      <th></th>\n",
              "      <th>Financial</th>\n",
              "      <th>Healthcare</th>\n",
              "      <th>e-com</th>\n",
              "      <th>social media</th>\n",
              "      <th>consumer</th>\n",
              "      <th>Information</th>\n",
              "    </tr>\n",
              "  </thead>\n",
              "  <tbody>\n",
              "    <tr>\n",
              "      <th>0</th>\n",
              "      <td>two sigma  the alpha insights team at two sigm...</td>\n",
              "      <td>novo nordisk  the clinical  medical and regula...</td>\n",
              "      <td>walmart position description  a staff data sci...</td>\n",
              "      <td>facebook  we’re looking for data scientists to...</td>\n",
              "      <td>uniliever  background   purpose of the job  as...</td>\n",
              "      <td>google  note  by applying to this position you...</td>\n",
              "    </tr>\n",
              "    <tr>\n",
              "      <th>1</th>\n",
              "      <td>prudential financial   as we create a diverse ...</td>\n",
              "      <td>aetna  description   it’s a new day in health ...</td>\n",
              "      <td>walmart  as a part of walmart’s customer data ...</td>\n",
              "      <td>facebook  with over 2 1 billion people  our co...</td>\n",
              "      <td></td>\n",
              "      <td></td>\n",
              "    </tr>\n",
              "    <tr>\n",
              "      <th>2</th>\n",
              "      <td>machine learning research scientist   pattern ...</td>\n",
              "      <td>blink health  blink health   https   www blink...</td>\n",
              "      <td>amazon  description    are you seeking an envi...</td>\n",
              "      <td>new york times  the new york times is a techno...</td>\n",
              "      <td></td>\n",
              "      <td></td>\n",
              "    </tr>\n",
              "    <tr>\n",
              "      <th>3</th>\n",
              "      <td>venmo  about us  venmo was founded on the prin...</td>\n",
              "      <td>oscar  hi  we re oscar  we re hiring a data sc...</td>\n",
              "      <td>amazon  description    amazon is looking for a...</td>\n",
              "      <td>wolters kluwer  data scientist – r0006015  wol...</td>\n",
              "      <td></td>\n",
              "      <td></td>\n",
              "    </tr>\n",
              "    <tr>\n",
              "      <th>4</th>\n",
              "      <td>sofi  who we are  sofi is a digital personal f...</td>\n",
              "      <td>oscar  hi  we re oscar  we re hiring a data sc...</td>\n",
              "      <td>amazon  where will amazon s growth come from i...</td>\n",
              "      <td>bloomberg  news and social media move financia...</td>\n",
              "      <td></td>\n",
              "      <td></td>\n",
              "    </tr>\n",
              "  </tbody>\n",
              "</table>\n",
              "</div>"
            ],
            "text/plain": [
              "0                                          Financial  ...                                        Information\n",
              "0  two sigma  the alpha insights team at two sigm...  ...  google  note  by applying to this position you...\n",
              "1  prudential financial   as we create a diverse ...  ...                                                   \n",
              "2  machine learning research scientist   pattern ...  ...                                                   \n",
              "3  venmo  about us  venmo was founded on the prin...  ...                                                   \n",
              "4  sofi  who we are  sofi is a digital personal f...  ...                                                   \n",
              "\n",
              "[5 rows x 6 columns]"
            ]
          },
          "metadata": {
            "tags": []
          },
          "execution_count": 140
        }
      ]
    },
    {
      "cell_type": "markdown",
      "metadata": {
        "id": "cBb8ZkCOokZ1",
        "colab_type": "text"
      },
      "source": [
        "stop words"
      ]
    },
    {
      "cell_type": "code",
      "metadata": {
        "id": "kyLdU2garrC3",
        "colab_type": "code",
        "outputId": "e842ac74-7589-45df-be6d-b6357ae447ac",
        "colab": {
          "base_uri": "https://localhost:8080/",
          "height": 71
        }
      },
      "source": [
        "# print stop words from spacy\n",
        "nlp = en_core_web_sm.load()  # spacy language model\n",
        "stop_words = list(spacy.lang.en.stop_words.STOP_WORDS) + list(string.punctuation) \n",
        "stop_words.append('two')\n",
        "print(stop_words)\n",
        "print('numbers of stopwords =',len(stop_words))"
      ],
      "execution_count": 190,
      "outputs": [
        {
          "output_type": "stream",
          "text": [
            "['’ll', 'ca', 'out', 'into', 'seems', 'doing', 'it', 'beforehand', 'down', 'from', 'three', 'neither', \"'m\", 'made', 'former', 'elsewhere', 'if', 'take', '’ve', 'put', 'seemed', 'forty', 'eight', 'whereafter', 'perhaps', 'at', '‘s', 'say', 'each', 'always', 'as', 'was', '’re', 'about', 'him', 'back', 'just', 'really', 'myself', 'sometime', 'twelve', 'wherein', 'well', 'with', 'once', 'there', 'seeming', '‘re', 'hereafter', 'bottom', 'third', 'nor', 'might', 'why', 'five', \"'ll\", 'call', 'give', 'in', 'have', 'do', 'where', \"n't\", 'please', 'their', 'among', 'some', 'yourself', 'should', 'almost', 'below', 'over', 'whereupon', 'therefore', 'were', 'would', 'you', 'else', 'every', 'become', 'serious', 'alone', 'twenty', 'them', 'thereafter', 'often', 'whither', \"'s\", 'but', 'hundred', 'an', \"'d\", 'one', 'side', 'herself', 'being', 'on', 'when', 'she', 'around', '‘ve', 'much', 'whatever', 'since', 'whenever', 'because', 'although', 'same', 'thereby', 'nobody', 'done', 'mine', 'so', 'those', 'anywhere', 'next', 'everything', 'seem', 'and', 'cannot', 'still', 'enough', 'meanwhile', 'they', 'which', 'after', 'few', 'my', 'somewhere', 'though', 'your', 'nothing', 'six', 'whereby', 'most', 'go', '’s', 'see', 'anyway', 'no', 'otherwise', 'moreover', 'becoming', 'amongst', 'something', 'thence', 'therein', '‘d', 'last', 'herein', 'i', 'more', 'of', 'very', 'until', 'whether', 'all', 'thru', 'by', 'noone', 'amount', 'the', 'not', 'unless', 'make', 'beside', 'did', 'ten', 'up', 'are', 'fifty', 'her', 'however', 'within', 'how', 'another', 'several', 'someone', 'many', 'name', 'also', 'get', 'hereby', 'or', 'ourselves', 'everywhere', 'any', 'both', 'latter', 'becomes', 'may', 'now', 'other', 'wherever', 'who', \"'ve\", 'is', 'such', 'then', 'together', 'whence', 'own', 'front', '’m', 'along', '’d', 'except', 'for', 'four', 're', 'somehow', 'behind', 'namely', 'hereupon', 'these', 'various', 'yours', 'must', 'already', 'none', 'whose', 'will', 'per', 'again', 'toward', 'ever', 'am', 'n’t', 'empty', 'here', 'rather', 'be', 'top', 'thus', 'without', 'during', 'nine', 'less', 'further', 'a', 'through', 'too', 'two', 'themselves', 'us', 'sometimes', 'we', 'whole', 'besides', 'thereupon', 'using', 'upon', 'formerly', 'itself', 'either', 'others', 'nowhere', 'can', 'due', 'quite', 'to', 'onto', 'part', 'this', 'towards', 'has', 'beyond', 'latterly', 'had', 'between', 'afterwards', 'than', 'his', 'our', 'while', 'sixty', 'that', 'before', 'does', '‘m', 'me', 'used', 'regarding', 'via', 'n‘t', 'never', 'anyhow', 'hers', 'could', 'himself', 'keep', 'eleven', 'first', 'been', 'became', 'he', 'anyone', 'hence', '‘ll', 'nevertheless', 'under', 'whoever', 'ours', 'least', \"'re\", 'only', 'anything', 'its', 'mostly', 'indeed', 'whom', 'what', 'full', 'against', 'yourselves', 'show', 'off', 'whereas', 'throughout', 'fifteen', 'across', 'even', 'everyone', 'move', 'above', 'yet', '!', '\"', '#', '$', '%', '&', \"'\", '(', ')', '*', '+', ',', '-', '.', '/', ':', ';', '<', '=', '>', '?', '@', '[', '\\\\', ']', '^', '_', '`', '{', '|', '}', '~', 'two']\n",
            "numbers of stopwords = 359\n"
          ],
          "name": "stdout"
        }
      ]
    },
    {
      "cell_type": "code",
      "metadata": {
        "id": "iNw7gdwGoqX0",
        "colab_type": "code",
        "colab": {}
      },
      "source": [
        "# Function to remove the stopwords\n",
        "def stwds(text):\n",
        "    return \" \".join([word for word in str(text).split() if word not in stopwords])\n",
        "# Applying the stopwords to 'text_punct' and store into 'text_stop'\n",
        "#df_clean[\"Financial_stop\"] = \n",
        "#df_clean[\"Financial\"].apply(stwds)\n",
        "#df_clean[\"Financial_stop\"].head()\n"
      ],
      "execution_count": 0,
      "outputs": []
    },
    {
      "cell_type": "code",
      "metadata": {
        "id": "uXNOP3WxpceS",
        "colab_type": "code",
        "colab": {
          "base_uri": "https://localhost:8080/",
          "height": 309
        },
        "outputId": "7386424c-12ab-4eab-fd12-b56756601353"
      },
      "source": [
        "#[w for w in df_clean.iloc[:,0] if w =='two']\n",
        "#df_clean.iloc[:,5].apply(stwds)\n",
        "for w in df_clean.iloc[:,0].str.split():\n",
        "  #if w in stop_words:\n",
        "    print('---')\n",
        "    print(w)"
      ],
      "execution_count": 202,
      "outputs": [
        {
          "output_type": "stream",
          "text": [
            "---\n",
            "['two', 'sigma', 'the', 'alpha', 'insights', 'team', 'at', 'two', 'sigma', 'is', 'looking', 'for', 'an', 'entrepreneurial', 'data', 'scientist', 'to', 'contribute', 'to', 'its', 'data', 'driven', 'investment', 'initiatives', 'alpha', 'insights', 'crowdsources', 'the', 'world’s', 'investment', 'insights', 'and', 'through', 'such', 'data', 'creation', 'we', 'are', 'an', 'integral', 'part', 'of', 'two', 'sigma', 'investment', 'management', 'process', 'we', 'interact', 'with', 'people', 'external', 'to', 'the', 'firm', 'to', 'collect', 'and', 'analyze', 'their', 'investment', 'insights', 'through', 'our', 'web', 'and', 'mobile', 'products', 'data', 'science', 'in', 'alpha', 'insights', 'has', '3', 'missions', '1', 'make', 'relevant', 'data', 'and', 'metrics', 'accessible', 'to', 'the', 'team', '2', 'perform', 'analyses', 'to', 'guide', 'business', 'and', 'product', 'decisions', 'and', '3', 'build', 'data', 'driven', 'features', 'that', 'power', 'our', 'products', 'you', 'will', 'take', 'on', 'the', 'following', 'responsibilities', 'deliver', 'metrics', 'and', 'analyses', 'to', 'all', 'functions', 'within', 'alpha', 'insights', 'including', 'product', 'design', 'and', 'business', 'units', 'write', 'etls', 'to', 'convert', 'structure', 'unstructured', 'data', 'into', 'stable', 'data', 'assets', 'build', 'visualizations', 'to', 'enable', 'team', 'members', 'to', 'extract', 'relevant', 'insights', 'apply', 'statistical', 'analysis', 'and', 'exploratory', 'techniques', 'to', 'enable', 'data', 'driven', 'decision', 'making', 'own', 'data', 'driven', 'product', 'components', 'e', 'g', 'ranking', 'and', 'recommendation', 'algorithms', 'you', 'should', 'possess', 'the', 'following', 'qualifications', '3', '5', 'years', 'of', 'experience', 'in', 'data', 'analysis', 'or', 'similar', 'role', 'ms', 'or', 'phd', 'in', 'computer', 'science', 'statistics', 'economics', 'or', 'related', 'quantitative', 'field', 'experience', 'applying', 'statistical', 'methods', 'distribution', 'analysis', 'classification', 'regression', 'clustering', 'etc', 'application', 'of', 'these', 'methods', 'to', 'user', 'behavior', 'a', 'plus', 'demonstrated', 'experience', 'highlighting', 'innovation', 'creativity', 'and', 'intuition', 'e', 'g', 'the', 'ability', 'to', 'laterally', 'identify', 'other', 'sources', 'of', 'useful', 'information', 'and', 'think', 'outside', 'the', 'box', 'strong', 'data', 'transformation', 'skills', 'e', 'g', 'using', 'pandas', 'r', 'software', 'engineering', 'skills', 'in', 'at', 'least', 'one', 'imperative', 'programming', 'language', 'communication', 'skills', 'to', 'explain', 'metrics', 'analyses', 'to', 'members', 'of', 'management', 'engineering', 'product', 'and', 'business', 'teams', 'prior', 'experience', 'in', 'finance', 'is', 'not', 'required']\n",
            "---\n",
            "['prudential', 'financial', 'as', 'we', 'create', 'a', 'diverse', 'growing', 'and', 'dynamic', 'workforce', 'within', 'a', 'technology', 'community', 'that', 's', 'respected', 'for', 'delivering', 'high', 'tech', 'solutions', 'data', 'driven', 'solutions', 'are', 'at', 'the', 'core', 'of', 'it', 'all', 'to', 'this', 'end', 'isg', 'technology', 'is', 'seeking', 'a', 'qualified', 'senior', 'data', 'scientist', 'with', 'experience', 'in', 'designing', 'solutions', 'to', 'business', 'problems', 'using', 'machine', 'learning', 'big', 'data', 'techniques', 'and', 'technologies', 'the', 'ideal', 'candidate', 'is', 'a', 'data', 'driven', 'problem', 'solver', 'with', 'an', 'ability', 'to', 'translate', 'business', 'requirements', 'into', 'mathematical', 'models', 'the', 'candidate', 'will', 'also', 'have', 'an', 'ability', 'to', 'develop', 'solutions', 'to', 'complex', 'mathematical', 'and', 'data', 'problems', 'discover', 'insights', 'and', 'identify', 'opportunities', 'through', 'the', 'use', 'of', 'statistical', 'algorithmic', 'data', 'mining', 'and', 'visualization', 'techniques', 'partnering', 'with', 'a', 'team', 'of', 'technology', 'and', 'business', 'data', 'specialists', 'the', 'candidate', 'will', 'use', 'their', 'analytic', 'and', 'engineering', 'skills', 'to', 'integrate', 'and', 'prepare', 'large', 'varied', 'datasets', 'and', 'architecting', 'specialized', 'solutions', 'in', 'cloud', 'environments', 'employing', 'a', 'range', 'of', 'machine', 'learning', 'and', 'data', 'science', 'techniques', 'while', 'effectively', 'communicating', 'results', 'to', 'various', 'interested', 'parties', 'this', 'is', 'a', 'dynamic', 'environment', 'where', 'the', 'right', 'candidate', 'will', 'be', 'comfortable', 'and', 'capable', 'of', 'operating', 'in', '“test', 'and', 'learn”', 'mode', 'and', 'work', 'independently', 'key', 'responsibilities', 'utilize', 'emerging', 'data', 'technologies', 'and', 'techniques', 'to', 'solve', 'data', 'driven', 'problems', 'lead', 'influence', 'and', 'participate', 'in', 'the', 'end', 'to', 'end', 'data', 'lifecycle', 'activities', 'identify', 'business', 'problems', 'engage', 'with', 'business', 'teams', 'build', 'hypotheses', 'define', 'and', 'build', 'compute', 'environments', 'and', 'automated', 'data', 'pipelines', 'drive', 'data', 'engineering', 'activities', 'discovery', 'sourcing', 'wrangling', 'cleansing', 'and', 'modeling', 'apply', 'machine', 'learning', 'techniques', 'and', 'various', 'algorithms', 'to', 'provide', 'problem', 'solving', 'insights', 'create', 'meaningful', 'insights', 'through', 'data', 'visualization', 'simple', 'effective', 'results', 'communication', 'work', 'as', 'a', 'liaison', 'between', 'business', 'partners', 'and', 'junior', 'data', 'scientists', 'to', 'refine', 'data', 'science', 'activity', 'participate', 'in', 'management', 'meetings', 'to', 'help', 'establish', 'data', 'roadmap', 'and', 'strategies', 'experience', 'with', 'algorithms', 'and', 'programming', 'to', 'efficiently', 'process', 'large', 'datasets', 'and', 'apply', 'treatments', 'filters', 'and', 'conditions', 'to', 'your', 'data', 'experience', 'with', 'big', 'data', 'technologies', 'such', 'as', 'hadoop', '2', '0', 'hbase', 'mongo', 'informatica', 'cloudera', 'vertica', 'green', 'plum', 'netezza', 'proficient', 'with', 'practical', 'experience', 'with', 'data', 'engineering', 'data', 'discovery', 'cleansing', 'wrangling', 'and', 'modeling', 'the', 'ability', 'to', 'organize', 'and', '“wrangle”', 'large', 'datasets', 'so', 'that', 'you', 'can', 'get', 'actionable', 'insights', 'from', 'them', 'this', 'may', 'include', 'finding', 'innovative', 'ways', 'to', 'combine', 'fields', 'of', 'data', 'that', 'don’t', 'naturally', 'mesh', 'together', 'experience', 'defining', 'and', 'creating', 'automated', 'data', 'pipelines', 'and', 'performing', 'advanced', 'data', 'manipulation', 'interest', 'in', 'understanding', 'the', 'business', 'problems', 'and', 'how', 'the', 'work', 'impacts', 'the', 'business', 'enthusiastic', 'yet', 'humble', '–', 'you', 'are', 'excited', 'about', 'the', 'work', 'you', 'do', 'but', 'you', 'are', 'also', 'humble', 'enough', 'to', 'embrace', 'feedback', '–', 'you', 'don’t', 'need', 'to', 'be', 'the', 'smartest', 'person', 'in', 'the', 'room', 'experience', 'with', 'machine', 'learning', 'methods', 'techniques', 'and', 'algorithms', 'classification', 'and', 'regression', 'clustering', 'decision', 'trees', 'neural', 'networks', 'time', 'series', 'analysis', 'etc', 'firm', 'understanding', 'of', 'statistics', 'statistical', 'tests', 'distributions', 'maximum', 'likelihood', 'estimators', 'etc', 'experience', 'with', 'visualization', 'and', 'reporting', 'technologies', 'such', 'as', 'tableau', 'power', 'bi', 'and', 'or', 'programmatic', 'visualizations', 'in', 'plotly', 'sas', 'python', 'etc', 'the', 'ability', 'to', 'create', 'meaningful', 'data', 'visualizations', 'that', 'communicate', 'your', 'findings', 'and', 'demonstrate', 'how', 'your', 'insights', 'create', 'business', 'impact', 'excellent', 'written', 'and', 'verbal', 'communication', 'skills', 'an', 'entrepreneurial', 'mindset', 'with', 'the', 'ability', 'to', 'adopt', 'novel', 'solutions', 'in', 'a', 'fast', 'paced', 'environment', 'to', 'deliver', 'results', 'quickly', 'help', 'junior', 'team', 'members', 'along', 'the', 'way', 'able', 'to', 'work', 'collaboratively', 'as', 'a', 'senior', 'member', 'of', 'the', 'team', 'but', 'with', 'creative', 'and', 'individual', 'thinking', 'previous', 'experience', 'in', 'working', 'in', 'high', 'growth', 'data', 'driven', 'and', 'or', 'innovative', 'businesses', 'experience', 'with', 'lean', 'and', 'or', 'scrum', 'development', 'methodologies', 'a', 'plus', 'ms', 'or', 'phd', 'in', 'computer', 'science', 'math', 'or', 'engineering', 'or', 'other', 'quantitative', 'field', 'work', 'experience', 'can', 'substitute', 'for', 'experience', 'experience', 'with', 'time', 'series', 'analysis', 'is', 'a', 'plus', 'experience', 'with', 'aws', 'machine', 'learning', 'suite', 'of', 'tools', 'is', 'a', 'plus', 'experience', 'with', 'applying', 'data', 'science', 'to', 'problems', 'in', 'insurance', 'and', 'or', 'other', 'financial', 'industries', 'is', 'a', 'plus', 'experience', 'with', 'analyzing', 'data', 'from', 'social', 'media', 'platforms', 'a', 'plus', 'knowledge', 'of', 'image', 'data', 'analysis', 'and', 'computer', 'vision', 'a', 'plus', 'knowledge', 'of', 'natural', 'language', 'processing', 'a', 'plus']\n",
            "---\n",
            "['machine', 'learning', 'research', 'scientist', 'pattern', 'recognition', 'we', 'ingests', 'more', 'than', '1', '5', 'million', 'news', 'stories', 'per', 'day', 'from', 'more', 'than', '120', '000', 'different', 'sources', 'to', 'help', 'our', 'clients', 'stay', 'in', 'the', 'know', 'this', 'data', 'would', 'be', 'unmanageable', 'without', 'our', 'help', 'news', 'stories', 'move', 'markets', 'we', 'build', 'machines', 'that', 'understand', 'them', 'with', 'the', 'ever', 'increasing', 'amount', 'of', 'data', 'being', 'generated', 'our', 'clients', 'need', 'ever', 'more', 'sophisticated', 'ways', 'of', 'extracting', 'signal', 'from', 'noise', 'the', 'pattern', 'recognition', 'team', 'in', 'the', 'machine', 'learning', 'group', 'is', 'responsible', 'for', 'building', 'a', 'wide', 'variety', 'of', 'analytics', 'and', 'recommendation', 'systems', 'to', 'surface', 'insights', 'e', 'g', 'identify', 'market', 'moving', 'news', 'stories', 'create', 'new', 'events', 'that', 'are', 'relevant', 'to', 'users', 'provide', 'personalized', 'recommendations', 'of', 'events', 'to', 'users', 'etc', 'to', 'increase', 'our', 'client', 's', 'productivity', 'we', 'are', 'looking', 'for', 'research', 'scientists', 'with', 'experience', 'running', 'a', 'machine', 'learning', 'project', 'from', 'inception', 'to', 'completion', 'and', 'specifically', 'with', 'a', 'background', 'and', 'interest', 'in', 'one', 'or', 'more', 'of', 'the', 'following', 'areas', 'state', 'of', 'the', 'art', 'deep', 'learning', 'e', 'g', 'hyper', 'parameter', 'tuning', 'sequence', 'to', 'sequence', 'methods', 'word', 'entity', 'embeddings', 'cnns', 'etc', 'model', 'evaluation', 'feature', 'engineering', 'big', 'data', 'experience', 'familiarly', 'with', 'time', 'series', 'analytics', 'we', 'll', 'trust', 'you', 'to', 'drive', 'projects', 'as', 'the', 'principle', 'point', 'of', 'contact', 'with', 'the', 'ability', 'to', 'determine', 'and', 'elaborate', 'on', 'suitable', 'metrics', 'as', 'well', 'as', 'methods', 'write', 'test', 'and', 'maintain', 'production', 'quality', 'code', 'mainly', 'c', 'publish', 'papers', 'and', 'attend', 'conferences', 'in', 'leading', 'venues', 'representing', 'our', 'research', 'you', 'll', 'need', 'to', 'have', 'strong', 'computer', 'science', 'fundamentals', 'algorithms', 'data', 'structures', 'a', 'track', 'record', 'of', 'relevant', 'research', 'solid', 'background', 'in', 'machine', 'learning', 'and', 'or', 'statistics', 'publication', 'history', 'experience', 'with', 'a', 'deep', 'learning', 'framework', 'e', 'g', 'tensorflow', 'pytorch', 'keras', 'cntk', 'etc', 'is', 'helpful', 'experience', 'with', 'nlp', 'is', 'also', 'very', 'useful']\n",
            "---\n",
            "['venmo', 'about', 'us', 'venmo', 'was', 'founded', 'on', 'the', 'principles', 'of', 'breaking', 'down', 'the', 'intimidating', 'barriers', 'around', 'financial', 'transactions', 'to', 'make', 'them', 'intuitive', 'friendly', 'and', 'even', 'fun', 'and', 'it', 'worked', 'people', 'love', 'sending', 'money', 'with', 'venmo', 'and', 'we’re', 'growing', 'by', 'leaps', 'and', 'bounds', 'but', 'we’re', 'only', 'just', 'getting', 'started', 'we', 'want', 'to', 'take', 'that', 'magic', 'of', 'sending', 'money', 'with', 'venmo', 'and', 'cascade', 'it', 'into', 'every', 'place', 'where', 'people', 'use', 'money', 'that', 'means', 'connecting', 'people', 'to', 'their', 'money', 'in', 'the', 'most', 'intuitive', 'and', 'fun', 'way', 'possible', 'then', 'connecting', 'people', 'with', 'each', 'other', 'users', 'already', 'love', 'venmo', 'but', 'we', 'know', 'there', 'are', 'lots', 'of', 'things', 'we', 'haven’t', 'thought', 'of', 'to', 'make', 'the', 'experience', 'of', 'using', 'venmo', 'even', 'more', 'delightful', 'and', 'valuable', 'all', 'that’s', 'going', 'to', 'take', 'a', 'lot', 'of', 'figuring', 'out', 'let’s', 'figure', 'it', 'out', 'together', 'data', 'analytics', 'at', 'venmo', 'analytics', 'plays', 'a', 'crucial', 'role', 'across', 'venmo', 'we', 'approach', 'problems', 'inquisitively', 'and', 'with', 'a', 'desire', 'to', 'find', 'solutions', 'in', 'our', 'data', 'we', 'believe', 'that', 'analytics', 'should', 'drive', 'business', 'decisions', 'across', 'the', 'company', 'in', 'order', 'to', 'keep', 'our', 'product', 'simple', 'joyful', 'and', 'delightful', 'data', 'scientist', 'at', 'venmo', 'venmo', 'is', 'looking', 'for', 'a', 'curious', 'proactive', 'and', 'organized', 'analyst', 'to', 'work', 'collaboratively', 'with', 'the', 'various', 'teams', 'across', 'the', 'organization', 'you', 'should', 'be', '“full', 'stack”', 'equally', 'capable', 'of', 'orchestrating', 'data', 'pipelines', 'using', 'infrastructure', 'built', 'by', 'data', 'engineers', 'digging', 'through', 'data', 'to', 'uncover', 'novel', 'insights', 'and', 'convincing', 'others', 'by', 'presenting', 'those', 'insights', 'in', 'a', 'clear', 'and', 'concise', 'way', 'as', 'a', 'member', 'of', 'the', 'analytics', 'team', 'you’ll', 'drive', 'critical', 'business', 'decisions', 'build', 'out', 'our', 'analytical', 'capabilities', 'and', 'work', 'on', 'perplexing', 'problems', 'you’ll', 'become', 'a', 'thought', 'leader', 'and', 'an', 'integral', 'part', 'of', 'a', 'company', 'that', 'makes', 'payments', 'fun', 'what', 'you', 'll', 'do', 'design', 'and', 'analyze', 'experiments', 'to', 'support', 'product', 'development', 'define', 'and', 'evaluate', 'key', 'metrics', 'and', 'understand', 'what', 'moves', 'them', 'and', 'why', 'model', 'the', 'lifetime', 'value', 'of', 'our', 'users', 'write', 'etl', 'to', 'aggregate', 'data', 'out', 'of', 'disparate', 'sources', 'what', 'we’re', 'looking', 'for', '4', 'years', 'experience', 'in', 'an', 'analytical', 'or', 'technical', 'role', 'sql', 'guru', 'and', 'experience', 'in', 'an', 'analytical', 'programming', 'language', 'python', 'or', 'r', '2', 'years', 'experience', 'with', 'self', 'service', 'bi', 'tools', 'e', 'g', 'tableau', 'looker', 'strong', 'analytical', 'intuition', 'and', 'business', 'acumen', 'ability', 'to', 'define', 'relevant', 'metrics', 'and', 'communicate', 'them', 'clearly', 'to', 'cross', 'functional', 'partners', 'of', 'varying', 'technical', 'levels', 'to', 'influence', 'appropriate', 'and', 'accurate', 'decisions', 'we', 'know', 'the', 'confidence', 'gap', 'and', 'imposter', 'syndrome', 'can', 'get', 'in', 'the', 'way', 'of', 'meeting', 'spectacular', 'candidates', 'please', 'don', 't', 'hesitate', 'to', 'appl']\n",
            "---\n",
            "['sofi', 'who', 'we', 'are', 'sofi', 'is', 'a', 'digital', 'personal', 'finance', 'company', 'whose', 'mission', 'is', 'to', 'help', 'its', 'members', 'achieve', 'financial', 'independence', 'to', 'realize', 'their', 'ambitions', 'whether', 'that', 'be', 'to', 'buy', 'a', 'house', 'one', 'day', 'start', 'a', 'family', 'on', 'their', 'own', 'terms', 'or', 'be', 'debt', 'free', 'we', 'aim', 'to', 'be', 'at', 'the', 'center', 'of', 'our', 'members’', 'financial', 'lives', 'and', 'to', 'help', 'every', 'member', 'get', 'their', 'money', 'right®', 'by', 'joining', 'sofi', 'you’ll', 'become', 'part', 'of', 'a', 'forward', 'thinking', 'company', 'that', 'is', 'transforming', 'financial', 'services', 'by', 'embracing', 'technology', 'to', 'build', 'innovative', 'loan', 'products', 'investment', 'tools', 'and', 'more', 'one', 'of', 'the', 'fastest', 'growing', 'fintech', 'companies', 'we’ve', 'grown', 'from', '250', 'employees', 'in', '2015', 'to', 'over', '1', '500', 'employees', 'today', 'and', 'are', 'well', 'on', 'our', 'way', 'to', 'reaching', '1', 'million', 'members', 'with', 'offices', 'across', 'the', 'us', 'we', 'offer', 'the', 'excitement', 'of', 'a', 'rapidly', 'growing', 'startup', 'with', 'the', 'stability', 'of', 'a', 'seasoned', 'management', 'team', 'and', 'some', 'of', 'the', 'best', 'talent', 'around', 'as', 'an', 'employer', 'we', 'strive', 'to', 'hire', 'employees', 'who', 'are', 'committed', 'to', 'both', 'our', 'company’s', 'mission', 'and', 'our', 'desire', 'to', 'build', 'the', 'best', 'culture', 'in', 'the', 'world', 'if', 'you', 'are', 'driven', 'passionate', 'about', 'what', 'you', 'do', 'and', 'excited', 'about', 'the', 'sofi', 'mission', 'we', 'would', 'love', 'to', 'hear', 'from', 'you', 'the', 'role', 'sofi', 'is', 'looking', 'for', 'a', 'senior', 'staff', 'data', 'scientist', 'analyst', 'to', 'deliver', 'data', 'driven', 'insights', 'to', 'support', 'our', 'invest', 'team', 's', 'decisions', 'and', 'strategies', 'for', 'invest', 'team', 'in', 'this', 'role', 'you', 'will', 'be', 'responsible', 'for', 'optimizing', 'invest', 'product', 'performance', 'through', 'experimentation', 'design', 'business', 'analytics', 'and', 'predictive', 'analytics', 'success', 'in', 'this', 'role', 'hinges', 'on', 'your', 'technical', 'aptitude', 'quantitative', 'abilities', 'and', 'business', 'acumen', 'you', 'know', 'how', 'to', 'plow', 'through', 'data', 'with', 'sql', 'python', 'r', 'tableau', 'surface', 'insights', 'using', 'math', 'statistics', 'ml', 'techniques', 'and', 'measure', 'the', 'business', 'impact', 'using', 'efficiency', 'conversion', 'profit', 'metrics', 'what', 'you', 'll', 'do', 'work', 'with', 'business', 'unit', 'leaders', 'and', 'product', 'teams', 'to', 'identify', 'business', 'opportunities', 'measure', 'kpis', 'to', 'craft', 'compelling', 'stories', 'make', 'data', 'driven', 'recommendations', 'and', 'drive', 'informed', 'actions', 'own', 'end', 'to', 'end', 'product', 'analytics', 'workflow', 'including', 'formulating', 'success', 'metrics', 'socializing', 'them', 'across', 'the', 'organization', 'and', 'creating', 'dashboards', 'reports', 'design', 'analyze', 'and', 'interpret', 'the', 'results', 'of', 'experiments', 'that', 'could', 'optimize', 'product', 'performance', 'work', 'cross', 'functional', 'with', 'engineering', 'product', 'teams', 'and', 'data', 'architects', 'to', 'ensure', 'data', 'is', 'being', 'captured', 'and', 'reports', 'are', 'accurate', 'what', 'you', 'll', 'need', '5', 'years', 'of', 'relevant', 'work', 'experience', 'business', 'analytics', 'kpi', 'dashboard', 'development', 'business', 'performance', 'analysis', '3', 'year', 'experience', 'with', 'investment', 'platforms', 'in', 'fintech', 'or', 'banking', 'environment', 'strong', 'data', 'visualization', 'and', 'presentation', 'skills', 'proficient', 'with', 'sql', 'r', 'python', 'tableau', 'excel', 'and', 'powerpoint', 'strong', 'analytical', 'problem', 'solving', 'and', 'critical', 'thinking', 'skills', 'strong', 'stakeholder', 'management', 'skills', 'intellectual', 'curiosity', 'and', 'aptitude', 'to', 'pick', 'up', 'new', 'technical', 'skills', 'ability', 'to', 'initiate', 'and', 'drive', 'projects', 'to', 'completion', 'with', 'minimal', 'guidance', 'bs', 'or', 'ideally', 'ms', 'mba', 'degree', 'in', 'computer', 'science', 'finance', 'economics', 'math', 'physics', 'engineering', 'or', 'other', 'quantitative', 'fields', 'why', 'you', 'll', 'love', 'working', 'here', 'company', 'paid', 'lunch', 'program', 'a', 'fully', 'stocked', 'kitchen', 'and', 'subsidized', 'gym', 'membership', 'competitive', 'salary', 'packages', 'and', 'bonuses', 'a', 'flexible', 'vacation', 'policy', 'allows', 'you', 'to', 'truly', 'relax', 'and', 'reboot', 'comprehensive', 'health', 'vision', 'dental', 'and', 'life', 'insurance', 'as', 'well', 'as', 'disability', 'benefits', '90', '100', 'of', 'health', 'vision', 'and', 'dental', 'premiums', 'paid', 'by', 'sofi', 'for', 'employees', 'and', 'their', 'dependents', '401', 'k', 'and', 'education', 'on', 'retirement', 'planning', 'tuition', 'reimbursement', 'on', 'approved', 'programs', 'up', 'to', '5', '250', 'a', 'year', 'monthly', 'contribution', 'to', 'help', 'you', 'pay', 'off', 'your', 'student', 'loans', 'pursuant', 'to', 'the', 'san', 'francisco', 'fair', 'chance', 'ordinance', 'we', 'will', 'consider', 'for', 'employment', 'qualified', 'applicants', 'with', 'arrest', 'and', 'conviction', 'records']\n",
            "---\n",
            "['goldman', 'sachs', 'collaborate', 'with', 'technology', 'division', 'teams', 'as', 'a', 'pool', 'of', 'developers', 'dedicated', 'to', 'delivering', 'key', 'priorities', 'act', 'as', '‘surge', 'squad’', 'responsible', 'for', 'accelerating', 'a', 'specific', 'high', 'impact', 'technology', 'division', 'project', 'you', 'will', 'be', 'expected', 'to', 'conduct', 'world', 'class', 'research', 'in', 'areas', 'of', 'your', 'specialization', 'within', 'the', 'domain', 'of', 'artificial', 'intelligence', '–', 'natural', 'language', 'understanding', 'causal', 'extraction', 'knowledge', 'representation', 'and', 'reasoning', 'you', 'will', 'work', 'with', 'other', 'researchers', 'and', 'developers', 'within', 'the', 'r', 'd', 'group', 'and', 'with', 'other', 'teams', 'in', 'gs', 'to', 'develop', 'breakthrough', 'ideas', 'in', 'this', 'space', 'create', 'proof', 'of', 'concept', 'realizations', 'develop', 'intellectual', 'property', 'and', 'participate', 'in', 'external', 'research', 'communities', 'giving', 'talks', 'publishing', 'papers', 'attending', 'conferences', 'organizing', 'meetings', 'how', 'you', 'will', 'fulfill', 'your', 'potential', 'responsibilities', 'and', 'qualifications', 'conduct', 'research', 'in', 'the', 'areas', 'of', 'artificial', 'intelligence', 'manage', 'individual', 'project', 'priorities', 'deadlines', 'and', 'deliverable', 'skills', 'and', 'experience', 'we', 'are', 'looking', 'for', 'phd', 'preferred', 'qualifications', 'research', 'experience', 'about', 'goldman', 'sachs', 'the', 'goldman', 'sachs', 'group', 'inc', 'is', 'a', 'leading', 'global', 'investment', 'banking', 'securities', 'and', 'investment', 'management', 'firm', 'that', 'provides', 'a', 'wide', 'range', 'of', 'financial', 'services', 'to', 'a', 'substantial', 'and', 'diversified', 'client', 'base', 'that', 'includes', 'corporations', 'financial', 'institutions', 'governments', 'and', 'individuals', 'founded', 'in', '1869', 'the', 'firm', 'is', 'headquartered', 'in', 'new', 'york', 'and', 'maintains', 'offices', 'in', 'all', 'major', 'financial', 'centers', 'around', 'the', 'world', 'â©', 'the', 'goldman', 'sachs', 'group', 'inc', '2019', 'all', 'rights', 'reserved', 'goldman', 'sachs', 'is', 'an', 'equal', 'employment', 'affirmative', 'action', 'employer', 'female', 'minority', 'disability', 'vet', 'division', 'engineering']\n",
            "---\n",
            "['dow', 'jones', 'we', 'are', 'looking', 'for', 'a', 'data', 'scientist', 'to', 'join', 'the', 'data', 'science', 'analytics', 'team', 'for', 'the', 'wall', 'street', 'journal’s', 'membership', 'group', 'in', 'this', 'role', 'you', 'will', 'lead', 'our', 'efforts', 'in', 'machine', 'learning', 'and', 'product', 'analytics', 'working', 'on', 'the', 'development', 'and', 'refinement', 'of', 'critical', 'models', 'for', 'our', 'business—including', 'the', 'propensity', 'model', 'behind', 'wsj’s', 'dynamic', 'paywall', 'additionally', 'you', 'will', 'serve', 'as', 'an', 'evangelist', 'for', 'analytics', 'within', 'our', 'organization', 'and', 'develop', 'metrics', 'for', 'measuring', 'engagement', 'within', 'our', 'products', 'the', 'role', 'will', 'require', 'a', 'strong', 'understanding', 'of', 'data', 'wrangling', 'log', 'level', 'usage', 'data', 'and', 'production', 'models', 'you', 'will', 'need', 'strong', 'organization', 'skills', 'and', 'will', 'oversee', 'the', 'execution', 'of', 'large', 'scale', 'data', 'projects', 'an', 'interest', 'in', 'best', 'in', 'class', 'design', 'and', 'engineering', 'as', 'well', 'as', 'visualization', 'and', 'storytelling', 'will', 'also', 'be', 'critical', 'to', 'your', 'success', 'in', 'this', 'role', 'requirements', 'you', 'have', 'at', 'minimum', 'bachelor’s', 'degree', 'in', 'information', 'systems', 'computer', 'science', 'mathematics', 'data', 'analytics', 'data', 'science', 'or', 'a', 'related', 'quantitative', 'discipline', 'applicants', 'with', 'strong', 'technical', 'experience', 'and', 'a', 'professional', 'background', 'in', 'media', 'are', 'also', 'encouraged', 'to', 'apply', 'at', 'least', '2', '5', 'years', 'of', 'experience', 'working', 'in', 'a', 'data', 'related', 'role', 'is', 'preferred', 'you', 'have', 'strong', 'coding', 'skills', 'in', 'r', 'and', 'or', 'python', 'and', 'understand', 'version', 'control', 'software', 'git', 'github', 'you', 'have', 'a', 'mastery', 'of', 'analytics', 'tools', 'sql', 'tableau', 'adobe', 'google', 'analytics', 'you', 'are', 'well', 'versed', 'in', 'the', 'fundamentals', 'of', 'statistics', 'and', 'have', 'a', 'working', 'understanding', 'of', 'machine', 'learning', 'algorithms', 'and', 'their', 'applications', 'you', 'have', 'an', 'entrepreneurial', 'attitude', 'toward', 'work', 'and', 'sweat', 'the', 'details', 'you', 'have', 'an', 'interest', 'in', 'continued', 'learning', 'and', 'stay', 'well', 'versed', 'in', 'new', 'technologies', 'that', 'can', 'be', 'applied', 'to', 'your', 'work']\n",
            "---\n",
            "['point72', 'at', 'point72', 'mi', 'data', 'our', 'data', 'scientists', 'sift', 'through', 'petabytes', 'of', 'unstructured', 'data', 'from', 'diverse', 'sources', 'to', 'discover', 'trends', 'and', 'insights', 'that', 'help', 'point72’s', 'portfolio', 'managers', 'create', 'new', 'investment', 'theses', 'we', 'combine', 'an', 'experiment', 'based', 'approach', 'with', 'the', 'strongest', 'possible', 'management', 'support', 'and', 'the', 'freedom', 'to', 'innovate', 'unencumbered', 'by', 'bureaucracy', 'we', 'encourage', 'our', 'data', 'scientists', 'to', 'imagine', 'the', 'impossible', 'and', 'provide', 'the', 'structure', 'to', 'bring', 'those', 'ideas', 'to', 'market', 'in', 'months', 'not', 'years', 'what', 'you’ll', 'do', 'in', 'this', 'role', 'you', 'will', 'our', 'data', 'scientists', 'conduct', 'research', 'through', 'data', 'mining', 'and', 'statistical', 'modeling', 'to', 'discover', 'insights', 'from', 'big', 'data', 'that', 'are', 'used', 'by', 'our', 'investment', 'professionals', 'to', 'make', 'investment', 'decisions', 'you', 'will', 'have', 'the', 'opportunity', 'to', 'work', 'in', 'a', 'highly', 'collegial', 'environment', 'that', 'emphasizes', 'teaching', 'and', 'learning', 'as', 'a', 'team', 'tackle', 'the', 'challenges', 'of', 'featurizing', 'and', 'modeling', 'large', 'and', 'unstructured', 'data', 'using', 'machine', 'learning', 'and', 'statistical', 'techniques', 'manage', 'all', 'aspects', 'of', 'the', 'research', 'and', 'execution', 'process', 'including', 'methodology', 'selection', 'data', 'collection', 'and', 'quality', 'modeling', 'and', 'analysis', 'and', 'performance', 'monitoring', 'deliver', 'research', 'findings', 'to', 'investment', 'teams', 'portfolio', 'managers', 'and', 'other', 'internal', 'clients', 'work', 'within', 'a', 'team', 'to', 'help', 'drive', 'technical', 'innovation', 'through', 'a', 'collaborative', 'r', 'd', 'process', 'what’s', 'required', 'we', 'look', 'for', 'candidates', 'with', 'extensive', 'knowledge', 'in', 'machine', 'learning', 'statistical', 'models', 'and', 'data', 'mining', 'tools', 'and', 'a', 'proven', 'track', 'record', 'of', 'working', 'with', 'large', 'structured', 'and', 'unstructured', 'data', 'sets', 'to', 'extract', 'timely', 'actionable', 'insights', 'other', 'requirements', 'include', 'ms', 'or', 'phd', 'degree', 'in', 'a', 'quantitative', 'discipline', '3', 'years', 'of', 'industry', 'working', 'experience', 'in', 'a', 'role', 'that', 'requires', 'advanced', 'statistical', 'analysis', '3', 'years', 'of', 'hands', 'on', 'working', 'experience', 'with', 'varied', 'and', 'complex', 'data', 'sets', 'strong', 'programming', 'skills', 'in', 'the', 'following', 'languages', 'sql', 'python', 'preferred', 'r', 'scala', 'spark', 'ability', 'to', 'think', 'creatively', 'and', 'see', 'the', 'big', 'picture', 'as', 'well', 'as', 'finer', 'details']\n"
          ],
          "name": "stdout"
        }
      ]
    },
    {
      "cell_type": "code",
      "metadata": {
        "id": "n7r4lOCBrljZ",
        "colab_type": "code",
        "colab": {
          "base_uri": "https://localhost:8080/",
          "height": 1000
        },
        "outputId": "d741c0e2-0708-49bd-a635-7fedecd0267a"
      },
      "source": [
        "stop_words"
      ],
      "execution_count": 192,
      "outputs": [
        {
          "output_type": "execute_result",
          "data": {
            "text/plain": [
              "['’ll',\n",
              " 'ca',\n",
              " 'out',\n",
              " 'into',\n",
              " 'seems',\n",
              " 'doing',\n",
              " 'it',\n",
              " 'beforehand',\n",
              " 'down',\n",
              " 'from',\n",
              " 'three',\n",
              " 'neither',\n",
              " \"'m\",\n",
              " 'made',\n",
              " 'former',\n",
              " 'elsewhere',\n",
              " 'if',\n",
              " 'take',\n",
              " '’ve',\n",
              " 'put',\n",
              " 'seemed',\n",
              " 'forty',\n",
              " 'eight',\n",
              " 'whereafter',\n",
              " 'perhaps',\n",
              " 'at',\n",
              " '‘s',\n",
              " 'say',\n",
              " 'each',\n",
              " 'always',\n",
              " 'as',\n",
              " 'was',\n",
              " '’re',\n",
              " 'about',\n",
              " 'him',\n",
              " 'back',\n",
              " 'just',\n",
              " 'really',\n",
              " 'myself',\n",
              " 'sometime',\n",
              " 'twelve',\n",
              " 'wherein',\n",
              " 'well',\n",
              " 'with',\n",
              " 'once',\n",
              " 'there',\n",
              " 'seeming',\n",
              " '‘re',\n",
              " 'hereafter',\n",
              " 'bottom',\n",
              " 'third',\n",
              " 'nor',\n",
              " 'might',\n",
              " 'why',\n",
              " 'five',\n",
              " \"'ll\",\n",
              " 'call',\n",
              " 'give',\n",
              " 'in',\n",
              " 'have',\n",
              " 'do',\n",
              " 'where',\n",
              " \"n't\",\n",
              " 'please',\n",
              " 'their',\n",
              " 'among',\n",
              " 'some',\n",
              " 'yourself',\n",
              " 'should',\n",
              " 'almost',\n",
              " 'below',\n",
              " 'over',\n",
              " 'whereupon',\n",
              " 'therefore',\n",
              " 'were',\n",
              " 'would',\n",
              " 'you',\n",
              " 'else',\n",
              " 'every',\n",
              " 'become',\n",
              " 'serious',\n",
              " 'alone',\n",
              " 'twenty',\n",
              " 'them',\n",
              " 'thereafter',\n",
              " 'often',\n",
              " 'whither',\n",
              " \"'s\",\n",
              " 'but',\n",
              " 'hundred',\n",
              " 'an',\n",
              " \"'d\",\n",
              " 'one',\n",
              " 'side',\n",
              " 'herself',\n",
              " 'being',\n",
              " 'on',\n",
              " 'when',\n",
              " 'she',\n",
              " 'around',\n",
              " '‘ve',\n",
              " 'much',\n",
              " 'whatever',\n",
              " 'since',\n",
              " 'whenever',\n",
              " 'because',\n",
              " 'although',\n",
              " 'same',\n",
              " 'thereby',\n",
              " 'nobody',\n",
              " 'done',\n",
              " 'mine',\n",
              " 'so',\n",
              " 'those',\n",
              " 'anywhere',\n",
              " 'next',\n",
              " 'everything',\n",
              " 'seem',\n",
              " 'and',\n",
              " 'cannot',\n",
              " 'still',\n",
              " 'enough',\n",
              " 'meanwhile',\n",
              " 'they',\n",
              " 'which',\n",
              " 'after',\n",
              " 'few',\n",
              " 'my',\n",
              " 'somewhere',\n",
              " 'though',\n",
              " 'your',\n",
              " 'nothing',\n",
              " 'six',\n",
              " 'whereby',\n",
              " 'most',\n",
              " 'go',\n",
              " '’s',\n",
              " 'see',\n",
              " 'anyway',\n",
              " 'no',\n",
              " 'otherwise',\n",
              " 'moreover',\n",
              " 'becoming',\n",
              " 'amongst',\n",
              " 'something',\n",
              " 'thence',\n",
              " 'therein',\n",
              " '‘d',\n",
              " 'last',\n",
              " 'herein',\n",
              " 'i',\n",
              " 'more',\n",
              " 'of',\n",
              " 'very',\n",
              " 'until',\n",
              " 'whether',\n",
              " 'all',\n",
              " 'thru',\n",
              " 'by',\n",
              " 'noone',\n",
              " 'amount',\n",
              " 'the',\n",
              " 'not',\n",
              " 'unless',\n",
              " 'make',\n",
              " 'beside',\n",
              " 'did',\n",
              " 'ten',\n",
              " 'up',\n",
              " 'are',\n",
              " 'fifty',\n",
              " 'her',\n",
              " 'however',\n",
              " 'within',\n",
              " 'how',\n",
              " 'another',\n",
              " 'several',\n",
              " 'someone',\n",
              " 'many',\n",
              " 'name',\n",
              " 'also',\n",
              " 'get',\n",
              " 'hereby',\n",
              " 'or',\n",
              " 'ourselves',\n",
              " 'everywhere',\n",
              " 'any',\n",
              " 'both',\n",
              " 'latter',\n",
              " 'becomes',\n",
              " 'may',\n",
              " 'now',\n",
              " 'other',\n",
              " 'wherever',\n",
              " 'who',\n",
              " \"'ve\",\n",
              " 'is',\n",
              " 'such',\n",
              " 'then',\n",
              " 'together',\n",
              " 'whence',\n",
              " 'own',\n",
              " 'front',\n",
              " '’m',\n",
              " 'along',\n",
              " '’d',\n",
              " 'except',\n",
              " 'for',\n",
              " 'four',\n",
              " 're',\n",
              " 'somehow',\n",
              " 'behind',\n",
              " 'namely',\n",
              " 'hereupon',\n",
              " 'these',\n",
              " 'various',\n",
              " 'yours',\n",
              " 'must',\n",
              " 'already',\n",
              " 'none',\n",
              " 'whose',\n",
              " 'will',\n",
              " 'per',\n",
              " 'again',\n",
              " 'toward',\n",
              " 'ever',\n",
              " 'am',\n",
              " 'n’t',\n",
              " 'empty',\n",
              " 'here',\n",
              " 'rather',\n",
              " 'be',\n",
              " 'top',\n",
              " 'thus',\n",
              " 'without',\n",
              " 'during',\n",
              " 'nine',\n",
              " 'less',\n",
              " 'further',\n",
              " 'a',\n",
              " 'through',\n",
              " 'too',\n",
              " 'two',\n",
              " 'themselves',\n",
              " 'us',\n",
              " 'sometimes',\n",
              " 'we',\n",
              " 'whole',\n",
              " 'besides',\n",
              " 'thereupon',\n",
              " 'using',\n",
              " 'upon',\n",
              " 'formerly',\n",
              " 'itself',\n",
              " 'either',\n",
              " 'others',\n",
              " 'nowhere',\n",
              " 'can',\n",
              " 'due',\n",
              " 'quite',\n",
              " 'to',\n",
              " 'onto',\n",
              " 'part',\n",
              " 'this',\n",
              " 'towards',\n",
              " 'has',\n",
              " 'beyond',\n",
              " 'latterly',\n",
              " 'had',\n",
              " 'between',\n",
              " 'afterwards',\n",
              " 'than',\n",
              " 'his',\n",
              " 'our',\n",
              " 'while',\n",
              " 'sixty',\n",
              " 'that',\n",
              " 'before',\n",
              " 'does',\n",
              " '‘m',\n",
              " 'me',\n",
              " 'used',\n",
              " 'regarding',\n",
              " 'via',\n",
              " 'n‘t',\n",
              " 'never',\n",
              " 'anyhow',\n",
              " 'hers',\n",
              " 'could',\n",
              " 'himself',\n",
              " 'keep',\n",
              " 'eleven',\n",
              " 'first',\n",
              " 'been',\n",
              " 'became',\n",
              " 'he',\n",
              " 'anyone',\n",
              " 'hence',\n",
              " '‘ll',\n",
              " 'nevertheless',\n",
              " 'under',\n",
              " 'whoever',\n",
              " 'ours',\n",
              " 'least',\n",
              " \"'re\",\n",
              " 'only',\n",
              " 'anything',\n",
              " 'its',\n",
              " 'mostly',\n",
              " 'indeed',\n",
              " 'whom',\n",
              " 'what',\n",
              " 'full',\n",
              " 'against',\n",
              " 'yourselves',\n",
              " 'show',\n",
              " 'off',\n",
              " 'whereas',\n",
              " 'throughout',\n",
              " 'fifteen',\n",
              " 'across',\n",
              " 'even',\n",
              " 'everyone',\n",
              " 'move',\n",
              " 'above',\n",
              " 'yet',\n",
              " '!',\n",
              " '\"',\n",
              " '#',\n",
              " '$',\n",
              " '%',\n",
              " '&',\n",
              " \"'\",\n",
              " '(',\n",
              " ')',\n",
              " '*',\n",
              " '+',\n",
              " ',',\n",
              " '-',\n",
              " '.',\n",
              " '/',\n",
              " ':',\n",
              " ';',\n",
              " '<',\n",
              " '=',\n",
              " '>',\n",
              " '?',\n",
              " '@',\n",
              " '[',\n",
              " '\\\\',\n",
              " ']',\n",
              " '^',\n",
              " '_',\n",
              " '`',\n",
              " '{',\n",
              " '|',\n",
              " '}',\n",
              " '~',\n",
              " 'two']"
            ]
          },
          "metadata": {
            "tags": []
          },
          "execution_count": 192
        }
      ]
    },
    {
      "cell_type": "code",
      "metadata": {
        "id": "0uRVMK7e3AJd",
        "colab_type": "code",
        "outputId": "b79244c5-4bfc-444f-c96c-c251b49a5469",
        "colab": {
          "base_uri": "https://localhost:8080/",
          "height": 374
        }
      },
      "source": [
        "# word split\n",
        "for names in df_jd.columns:\n",
        "  for i in range(len(df_jd[names])):\n",
        "\n",
        "    df_clean[names][i] = df_jd[names][i].split(' ')\n",
        "    #df_clean[names][i] = pd.DataFrame(re.split(' |, |\\n',df_jd[names][i]))\n",
        "#[x.strip() for x in my_string.split(',')]\n",
        "\n",
        "df_clean.head()"
      ],
      "execution_count": 136,
      "outputs": [
        {
          "output_type": "execute_result",
          "data": {
            "text/html": [
              "<div>\n",
              "<style scoped>\n",
              "    .dataframe tbody tr th:only-of-type {\n",
              "        vertical-align: middle;\n",
              "    }\n",
              "\n",
              "    .dataframe tbody tr th {\n",
              "        vertical-align: top;\n",
              "    }\n",
              "\n",
              "    .dataframe thead th {\n",
              "        text-align: right;\n",
              "    }\n",
              "</style>\n",
              "<table border=\"1\" class=\"dataframe\">\n",
              "  <thead>\n",
              "    <tr style=\"text-align: right;\">\n",
              "      <th></th>\n",
              "      <th>Financial</th>\n",
              "      <th>Healthcare</th>\n",
              "      <th>e-com</th>\n",
              "      <th>social media</th>\n",
              "      <th>consumer</th>\n",
              "      <th>Information</th>\n",
              "    </tr>\n",
              "  </thead>\n",
              "  <tbody>\n",
              "    <tr>\n",
              "      <th>0</th>\n",
              "      <td>[Two, Sigma,, The, Alpha, Insights, team, at, ...</td>\n",
              "      <td>[Novo, Nordisk,, The, Clinical,, Medical, and,...</td>\n",
              "      <td>[Walmart, Position, Description\\n\\nA, Staff, D...</td>\n",
              "      <td>[Facebook,, We’re, looking, for, Data, Scienti...</td>\n",
              "      <td>[Uniliever,, Background, &amp;, Purpose, of, the, ...</td>\n",
              "      <td>[Google,, Note:, By, applying, to, this, posit...</td>\n",
              "    </tr>\n",
              "    <tr>\n",
              "      <th>1</th>\n",
              "      <td>[Prudential, Financial,\\n\\nAs, we, create, a, ...</td>\n",
              "      <td>[Aetna,, Description:\\r\\nIt’s, a, new, day, in...</td>\n",
              "      <td>[Walmart,, As, a, part, of, Walmart’s, Custome...</td>\n",
              "      <td>[Facebook,, With, over, 2.1, billion, people,,...</td>\n",
              "      <td>[]</td>\n",
              "      <td>[]</td>\n",
              "    </tr>\n",
              "    <tr>\n",
              "      <th>2</th>\n",
              "      <td>[Machine, Learning, Research, Scientist, -, Pa...</td>\n",
              "      <td>[Blink, Health,, Blink, Health, (, https://www...</td>\n",
              "      <td>[Amazon,, Description\\r\\n\\r\\nAre, you, seeking...</td>\n",
              "      <td>[New, York, Times,, The, New, York, Times, is,...</td>\n",
              "      <td>[]</td>\n",
              "      <td>[]</td>\n",
              "    </tr>\n",
              "    <tr>\n",
              "      <th>3</th>\n",
              "      <td>[Venmo,, About, Us\\n\\nVenmo, was, founded, on,...</td>\n",
              "      <td>[Oscar,, Hi,, we're, Oscar., We're, hiring, a,...</td>\n",
              "      <td>[Amazon,, Description\\r\\n\\r\\nAmazon, is, looki...</td>\n",
              "      <td>[Wolters, Kluwer,, Data, Scientist, –, R000601...</td>\n",
              "      <td>[]</td>\n",
              "      <td>[]</td>\n",
              "    </tr>\n",
              "    <tr>\n",
              "      <th>4</th>\n",
              "      <td>[Sofi,, Who, We, Are\\n\\nSoFi, is, a, digital, ...</td>\n",
              "      <td>[Oscar,, Hi,, we're, Oscar., We're, hiring, a,...</td>\n",
              "      <td>[Amazon,, Where, will, Amazon's, growth, come,...</td>\n",
              "      <td>[Bloomberg,, News, and, social, media, move, f...</td>\n",
              "      <td>[]</td>\n",
              "      <td>[]</td>\n",
              "    </tr>\n",
              "  </tbody>\n",
              "</table>\n",
              "</div>"
            ],
            "text/plain": [
              "0                                          Financial  ...                                        Information\n",
              "0  [Two, Sigma,, The, Alpha, Insights, team, at, ...  ...  [Google,, Note:, By, applying, to, this, posit...\n",
              "1  [Prudential, Financial,\\n\\nAs, we, create, a, ...  ...                                                 []\n",
              "2  [Machine, Learning, Research, Scientist, -, Pa...  ...                                                 []\n",
              "3  [Venmo,, About, Us\\n\\nVenmo, was, founded, on,...  ...                                                 []\n",
              "4  [Sofi,, Who, We, Are\\n\\nSoFi, is, a, digital, ...  ...                                                 []\n",
              "\n",
              "[5 rows x 6 columns]"
            ]
          },
          "metadata": {
            "tags": []
          },
          "execution_count": 136
        }
      ]
    },
    {
      "cell_type": "code",
      "metadata": {
        "id": "gdD68VKNfjD7",
        "colab_type": "code",
        "colab": {
          "base_uri": "https://localhost:8080/",
          "height": 306
        },
        "outputId": "ace99997-809e-4382-ae47-0212398bdaa3"
      },
      "source": [
        "df_clean.head()"
      ],
      "execution_count": 92,
      "outputs": [
        {
          "output_type": "execute_result",
          "data": {
            "text/html": [
              "<div>\n",
              "<style scoped>\n",
              "    .dataframe tbody tr th:only-of-type {\n",
              "        vertical-align: middle;\n",
              "    }\n",
              "\n",
              "    .dataframe tbody tr th {\n",
              "        vertical-align: top;\n",
              "    }\n",
              "\n",
              "    .dataframe thead th {\n",
              "        text-align: right;\n",
              "    }\n",
              "</style>\n",
              "<table border=\"1\" class=\"dataframe\">\n",
              "  <thead>\n",
              "    <tr style=\"text-align: right;\">\n",
              "      <th></th>\n",
              "      <th>Financial</th>\n",
              "      <th>Healthcare</th>\n",
              "      <th>e-com</th>\n",
              "      <th>social media</th>\n",
              "      <th>consumer</th>\n",
              "      <th>Information</th>\n",
              "    </tr>\n",
              "  </thead>\n",
              "  <tbody>\n",
              "    <tr>\n",
              "      <th>0</th>\n",
              "      <td>two sigma  the alpha insights team at two sigm...</td>\n",
              "      <td>novo nordisk  the clinical  medical and regula...</td>\n",
              "      <td>walmart position description  a staff data sci...</td>\n",
              "      <td>facebook  we’re looking for data scientists to...</td>\n",
              "      <td>uniliever  background   purpose of the job  as...</td>\n",
              "      <td>google  note  by applying to this position you...</td>\n",
              "    </tr>\n",
              "    <tr>\n",
              "      <th>1</th>\n",
              "      <td>prudential financial   as we create a diverse ...</td>\n",
              "      <td>aetna  description   it’s a new day in health ...</td>\n",
              "      <td>walmart  as a part of walmart’s customer data ...</td>\n",
              "      <td>facebook  with over 2 1 billion people  our co...</td>\n",
              "      <td></td>\n",
              "      <td></td>\n",
              "    </tr>\n",
              "    <tr>\n",
              "      <th>2</th>\n",
              "      <td>machine learning research scientist   pattern ...</td>\n",
              "      <td>blink health  blink health   https   www blink...</td>\n",
              "      <td>amazon  description    are you seeking an envi...</td>\n",
              "      <td>new york times  the new york times is a techno...</td>\n",
              "      <td></td>\n",
              "      <td></td>\n",
              "    </tr>\n",
              "    <tr>\n",
              "      <th>3</th>\n",
              "      <td>venmo  about us  venmo was founded on the prin...</td>\n",
              "      <td>oscar  hi  we re oscar  we re hiring a data sc...</td>\n",
              "      <td>amazon  description    amazon is looking for a...</td>\n",
              "      <td>wolters kluwer  data scientist – r0006015  wol...</td>\n",
              "      <td></td>\n",
              "      <td></td>\n",
              "    </tr>\n",
              "    <tr>\n",
              "      <th>4</th>\n",
              "      <td>sofi  who we are  sofi is a digital personal f...</td>\n",
              "      <td>oscar  hi  we re oscar  we re hiring a data sc...</td>\n",
              "      <td>amazon  where will amazon s growth come from i...</td>\n",
              "      <td>bloomberg  news and social media move financia...</td>\n",
              "      <td></td>\n",
              "      <td></td>\n",
              "    </tr>\n",
              "  </tbody>\n",
              "</table>\n",
              "</div>"
            ],
            "text/plain": [
              "0                                          Financial  ...                                        Information\n",
              "0  two sigma  the alpha insights team at two sigm...  ...  google  note  by applying to this position you...\n",
              "1  prudential financial   as we create a diverse ...  ...                                                   \n",
              "2  machine learning research scientist   pattern ...  ...                                                   \n",
              "3  venmo  about us  venmo was founded on the prin...  ...                                                   \n",
              "4  sofi  who we are  sofi is a digital personal f...  ...                                                   \n",
              "\n",
              "[5 rows x 6 columns]"
            ]
          },
          "metadata": {
            "tags": []
          },
          "execution_count": 92
        }
      ]
    },
    {
      "cell_type": "code",
      "metadata": {
        "id": "pPFyucIIsvPQ",
        "colab_type": "code",
        "colab": {}
      },
      "source": [
        "def word_clean(df, columns):\n",
        "  '''\n",
        "  input: dataset and column name\n",
        "  output: lowercase word without stop words\n",
        "  '''\n",
        "  df_clean = []\n",
        "  for discription in df[columns]:\n",
        "    #lower_words = []\n",
        "    for word in discription:\n",
        "      if not word.lower() in stopwords:\n",
        "        #lower_words.append(word.lower())\n",
        "        df_clean.append(word.lower())\n",
        "    #df_clean.append(lower_words)\n",
        "  return df_clean\n"
      ],
      "execution_count": 0,
      "outputs": []
    },
    {
      "cell_type": "code",
      "metadata": {
        "id": "s9twn8tayXVR",
        "colab_type": "code",
        "outputId": "467e3fe6-d1c4-462a-82e3-f4ee334eac69",
        "colab": {
          "base_uri": "https://localhost:8080/",
          "height": 283
        }
      },
      "source": [
        "text_financial = word_clean(df_clean, 'Financial')"
      ],
      "execution_count": 135,
      "outputs": [
        {
          "output_type": "error",
          "ename": "AttributeError",
          "evalue": "ignored",
          "traceback": [
            "\u001b[0;31m---------------------------------------------------------------------------\u001b[0m",
            "\u001b[0;31mAttributeError\u001b[0m                            Traceback (most recent call last)",
            "\u001b[0;32m<ipython-input-135-5dca86387d04>\u001b[0m in \u001b[0;36m<module>\u001b[0;34m()\u001b[0m\n\u001b[0;32m----> 1\u001b[0;31m \u001b[0mtext_financial\u001b[0m \u001b[0;34m=\u001b[0m \u001b[0mword_clean\u001b[0m\u001b[0;34m(\u001b[0m\u001b[0mdf_clean\u001b[0m\u001b[0;34m,\u001b[0m \u001b[0;34m'Financial'\u001b[0m\u001b[0;34m)\u001b[0m\u001b[0;34m\u001b[0m\u001b[0;34m\u001b[0m\u001b[0m\n\u001b[0m",
            "\u001b[0;32m<ipython-input-134-ff549293c5eb>\u001b[0m in \u001b[0;36mword_clean\u001b[0;34m(df, columns)\u001b[0m\n\u001b[1;32m      8\u001b[0m     \u001b[0;31m#lower_words = []\u001b[0m\u001b[0;34m\u001b[0m\u001b[0;34m\u001b[0m\u001b[0;34m\u001b[0m\u001b[0m\n\u001b[1;32m      9\u001b[0m     \u001b[0;32mfor\u001b[0m \u001b[0mword\u001b[0m \u001b[0;32min\u001b[0m \u001b[0mdiscription\u001b[0m\u001b[0;34m:\u001b[0m\u001b[0;34m\u001b[0m\u001b[0;34m\u001b[0m\u001b[0m\n\u001b[0;32m---> 10\u001b[0;31m       \u001b[0;32mif\u001b[0m \u001b[0;32mnot\u001b[0m \u001b[0mword\u001b[0m\u001b[0;34m.\u001b[0m\u001b[0mlower\u001b[0m\u001b[0;34m(\u001b[0m\u001b[0;34m)\u001b[0m \u001b[0;32min\u001b[0m \u001b[0mstopwords\u001b[0m\u001b[0;34m:\u001b[0m\u001b[0;34m\u001b[0m\u001b[0;34m\u001b[0m\u001b[0m\n\u001b[0m\u001b[1;32m     11\u001b[0m         \u001b[0;31m#lower_words.append(word.lower())\u001b[0m\u001b[0;34m\u001b[0m\u001b[0;34m\u001b[0m\u001b[0;34m\u001b[0m\u001b[0m\n\u001b[1;32m     12\u001b[0m         \u001b[0mdf_clean\u001b[0m\u001b[0;34m.\u001b[0m\u001b[0mappend\u001b[0m\u001b[0;34m(\u001b[0m\u001b[0mword\u001b[0m\u001b[0;34m.\u001b[0m\u001b[0mlower\u001b[0m\u001b[0;34m(\u001b[0m\u001b[0;34m)\u001b[0m\u001b[0;34m)\u001b[0m\u001b[0;34m\u001b[0m\u001b[0;34m\u001b[0m\u001b[0m\n",
            "\u001b[0;31mAttributeError\u001b[0m: 'int' object has no attribute 'lower'"
          ]
        }
      ]
    },
    {
      "cell_type": "code",
      "metadata": {
        "id": "hGdv6G-IfrMb",
        "colab_type": "code",
        "colab": {}
      },
      "source": [
        "#word_clean(df1, 'Financial');\n",
        "# check stop words\n",
        "w = ['(1)', '(2)','(3)','&', 'r,)','(e.g.','e.g.','etc.).','ms','3-5','3','r,','3+','â©','2+']\n",
        "stopwords1 = list(stopwords)+(w)\n",
        "#for i in w:\n",
        "#  nlp.vocab[i].is_stop = True\n",
        "#nlp.vocab['christchurch'].is_stop = True\n",
        "#nlp.vocab['new zealand'].is_stop = True\n"
      ],
      "execution_count": 0,
      "outputs": []
    },
    {
      "cell_type": "markdown",
      "metadata": {
        "id": "64cRUxDBQ_wI",
        "colab_type": "text"
      },
      "source": [
        "#### keywords"
      ]
    },
    {
      "cell_type": "code",
      "metadata": {
        "id": "a71w1Q5lRJ8W",
        "colab_type": "code",
        "colab": {}
      },
      "source": [
        "test=pd.Series(text_financial)#.values.replace('\\\\n','')\n",
        "test.replace('\\\\n', '', inplace=True)"
      ],
      "execution_count": 0,
      "outputs": []
    },
    {
      "cell_type": "code",
      "metadata": {
        "id": "7OdiigoAUGRX",
        "colab_type": "code",
        "colab": {
          "base_uri": "https://localhost:8080/",
          "height": 85
        },
        "outputId": "cac99812-00bd-433f-94bf-a3ceded95737"
      },
      "source": [
        "df_kw.columns"
      ],
      "execution_count": 43,
      "outputs": [
        {
          "output_type": "execute_result",
          "data": {
            "text/plain": [
              "Index(['statistics', 'machine learning', 'deep learning', 'python langugage',\n",
              "       'R language', 'nlp', 'data engineering', 'visualization',\n",
              "       'soft skills'],\n",
              "      dtype='object', name=0)"
            ]
          },
          "metadata": {
            "tags": []
          },
          "execution_count": 43
        }
      ]
    },
    {
      "cell_type": "code",
      "metadata": {
        "id": "S6Tu6YYyTFay",
        "colab_type": "code",
        "colab": {}
      },
      "source": [
        "words_stats = [nlp(text) for text in df_kw['statistics'].dropna(axis=0)]\n",
        "words_ml = [nlp(text) for text in df_kw['machine learning'].dropna(axis=0)]\n",
        "words_dl = [nlp(text) for text in df_kw['deep learning'].dropna(axis=0)]\n",
        "words_py = [nlp(text) for text in df_kw['python langugage'].dropna(axis=0)]\n",
        "words_r = [nlp(text) for text in df_kw['R language'].dropna(axis=0)]\n",
        "words_nlp = [nlp(text) for text in df_kw['nlp'].dropna(axis=0)]\n",
        "words_de = [nlp(text) for text in df_kw['data engineering'].dropna(axis=0)]\n",
        "words_vis = [nlp(text) for text in df_kw['visualization'].dropna(axis=0)]\n",
        "words_ss = [nlp(text) for text in df_kw['soft skills'].dropna(axis=0)]"
      ],
      "execution_count": 0,
      "outputs": []
    },
    {
      "cell_type": "code",
      "metadata": {
        "id": "Tj5R8oo9RCbs",
        "colab_type": "code",
        "colab": {}
      },
      "source": [
        "#function that does phrase matching and builds a candidate profile\n",
        "def create_profile(file):\n",
        "    text = pdfextract(file) \n",
        "    text = str(text)\n",
        "    text = text.replace(\"\\\\n\", \"\")\n",
        "    text = text.lower()\n",
        "    #below is the csv where we have all the keywords, you can customize your own\n",
        "    keyword_dict = pd.read_csv('D:/NLP_Resume/resume/template_new.csv')\n",
        "    stats_words = [nlp(text) for text in keyword_dict['Statistics'].dropna(axis = 0)]\n",
        "    NLP_words = [nlp(text) for text in keyword_dict['NLP'].dropna(axis = 0)]\n",
        "    ML_words = [nlp(text) for text in keyword_dict['Machine Learning'].dropna(axis = 0)]\n",
        "    DL_words = [nlp(text) for text in keyword_dict['Deep Learning'].dropna(axis = 0)]\n",
        "    R_words = [nlp(text) for text in keyword_dict['R Language'].dropna(axis = 0)]\n",
        "    python_words = [nlp(text) for text in keyword_dict['Python Language'].dropna(axis = 0)]\n",
        "    Data_Engineering_words = [nlp(text) for text in keyword_dict['Data Engineering'].dropna(axis = 0)]\n",
        "\n",
        "    matcher = PhraseMatcher(nlp.vocab)\n",
        "    matcher.add('Stats', None, *stats_words)\n",
        "    matcher.add('NLP', None, *NLP_words)\n",
        "    matcher.add('ML', None, *ML_words)\n",
        "    matcher.add('DL', None, *DL_words)\n",
        "    matcher.add('R', None, *R_words)\n",
        "    matcher.add('Python', None, *python_words)\n",
        "    matcher.add('DE', None, *Data_Engineering_words)\n",
        "    doc = nlp(text)\n",
        "    \n",
        "    d = []  \n",
        "    matches = matcher(doc)\n",
        "    for match_id, start, end in matches:\n",
        "        rule_id = nlp.vocab.strings[match_id]  # get the unicode ID, i.e. 'COLOR'\n",
        "        span = doc[start : end]  # get the matched slice of the doc\n",
        "        d.append((rule_id, span.text))      \n",
        "    keywords = \"\\n\".join(f'{i[0]} {i[1]} ({j})' for i,j in Counter(d).items())\n",
        "    \n",
        "    ## convertimg string of keywords to dataframe\n",
        "    df = pd.read_csv(StringIO(keywords),names = ['Keywords_List'])\n",
        "    df1 = pd.DataFrame(df.Keywords_List.str.split(' ',1).tolist(),columns = ['Subject','Keyword'])\n",
        "    df2 = pd.DataFrame(df1.Keyword.str.split('(',1).tolist(),columns = ['Keyword', 'Count'])\n",
        "    df3 = pd.concat([df1['Subject'],df2['Keyword'], df2['Count']], axis =1) \n",
        "    df3['Count'] = df3['Count'].apply(lambda x: x.rstrip(\")\"))\n",
        "    \n",
        "    base = os.path.basename(file)\n",
        "    filename = os.path.splitext(base)[0]\n",
        "       \n",
        "    name = filename.split('_')\n",
        "    name2 = name[0]\n",
        "    name2 = name2.lower()\n",
        "    ## converting str to dataframe\n",
        "    name3 = pd.read_csv(StringIO(name2),names = ['Candidate Name'])\n",
        "    \n",
        "    dataf = pd.concat([name3['Candidate Name'], df3['Subject'], df3['Keyword'], df3['Count']], axis = 1)\n",
        "    dataf['Candidate Name'].fillna(dataf['Candidate Name'].iloc[0], inplace = True)\n",
        "\n",
        "    return(dataf)"
      ],
      "execution_count": 0,
      "outputs": []
    },
    {
      "cell_type": "markdown",
      "metadata": {
        "id": "I4mqlPRuCZz1",
        "colab_type": "text"
      },
      "source": [
        "#### Topic Modeling with LSA"
      ]
    },
    {
      "cell_type": "code",
      "metadata": {
        "id": "7qBEzleqf2as",
        "colab_type": "code",
        "colab": {}
      },
      "source": [
        "from sklearn.feature_extraction.text import CountVectorizer\n",
        "from sklearn.feature_extraction.text import TfidfVectorizer\n",
        "from sklearn.decomposition import TruncatedSVD\n",
        "from sklearn.decomposition import LatentDirichletAllocation\n",
        "from sklearn.manifold import TSNE\n",
        "from collections import Counter"
      ],
      "execution_count": 0,
      "outputs": []
    },
    {
      "cell_type": "code",
      "metadata": {
        "id": "Sj8fQIPDu6w0",
        "colab_type": "code",
        "colab": {}
      },
      "source": [
        "reindexed_data = np.array(word_clean(df_clean, 'Healthcare'))\n",
        "tfidf_vectorizer = TfidfVectorizer(stop_words='english', use_idf=True, smooth_idf=True)\n",
        "reindexed_data = reindexed_data#.values\n",
        "document_term_matrix = tfidf_vectorizer.fit_transform(reindexed_data)"
      ],
      "execution_count": 0,
      "outputs": []
    },
    {
      "cell_type": "code",
      "metadata": {
        "id": "ldy7iEkA0T7D",
        "colab_type": "code",
        "colab": {}
      },
      "source": [
        "n_topics = 6\n",
        "lsa_model = TruncatedSVD(n_components=n_topics)\n",
        "lsa_topic_matrix = lsa_model.fit_transform(document_term_matrix)"
      ],
      "execution_count": 0,
      "outputs": []
    },
    {
      "cell_type": "code",
      "metadata": {
        "id": "jfJGrhY75vAF",
        "colab_type": "code",
        "colab": {}
      },
      "source": [
        "def get_keys(topic_matrix):\n",
        "    '''\n",
        "    returns an integer list of predicted topic \n",
        "    categories for a given topic matrix\n",
        "    '''\n",
        "    keys = topic_matrix.argmax(axis=1).tolist()\n",
        "    return keys\n",
        "\n",
        "def keys_to_counts(keys):\n",
        "    '''\n",
        "    returns a tuple of topic categories and their \n",
        "    accompanying magnitudes for a given list of keys\n",
        "    '''\n",
        "    count_pairs = Counter(keys).items()\n",
        "    categories = [pair[0] for pair in count_pairs]\n",
        "    counts = [pair[1] for pair in count_pairs]\n",
        "    return (categories, counts)"
      ],
      "execution_count": 0,
      "outputs": []
    },
    {
      "cell_type": "code",
      "metadata": {
        "id": "daChq7CA5xjj",
        "colab_type": "code",
        "colab": {}
      },
      "source": [
        "lsa_keys = get_keys(lsa_topic_matrix)\n",
        "lsa_categories, lsa_counts = keys_to_counts(lsa_keys)"
      ],
      "execution_count": 0,
      "outputs": []
    },
    {
      "cell_type": "code",
      "metadata": {
        "id": "BdTZU2Aa50h3",
        "colab_type": "code",
        "colab": {}
      },
      "source": [
        "def get_top_n_words(n, keys, document_term_matrix, tfidf_vectorizer):\n",
        "    '''\n",
        "    returns a list of n_topic strings, where each string contains the n most common \n",
        "    words in a predicted category, in order\n",
        "    '''\n",
        "    top_word_indices = []\n",
        "    for topic in range(n_topics):\n",
        "        temp_vector_sum = 0\n",
        "        for i in range(len(keys)):\n",
        "            if keys[i] == topic:\n",
        "                temp_vector_sum += document_term_matrix[i]\n",
        "        temp_vector_sum = temp_vector_sum.toarray()\n",
        "        top_n_word_indices = np.flip(np.argsort(temp_vector_sum)[0][-n:],0)\n",
        "        top_word_indices.append(top_n_word_indices)   \n",
        "    top_words = []\n",
        "    for topic in top_word_indices:\n",
        "        topic_words = []\n",
        "        for index in topic:\n",
        "            temp_word_vector = np.zeros((1,document_term_matrix.shape[1]))\n",
        "            temp_word_vector[:,index] = 1\n",
        "            the_word = tfidf_vectorizer.inverse_transform(temp_word_vector)[0][0]\n",
        "            topic_words.append(the_word.encode('ascii').decode('utf-8'))\n",
        "        top_words.append(\" \".join(topic_words))         \n",
        "    return top_words"
      ],
      "execution_count": 0,
      "outputs": []
    },
    {
      "cell_type": "code",
      "metadata": {
        "id": "DtqhRdzT53jS",
        "colab_type": "code",
        "outputId": "b602d846-8d88-4353-d7dc-20f0ddf73b6d",
        "colab": {
          "base_uri": "https://localhost:8080/",
          "height": 115
        }
      },
      "source": [
        "top_n_words_lsa = get_top_n_words(3, lsa_keys, document_term_matrix, tfidf_vectorizer)\n",
        "\n",
        "for i in range(len(top_n_words_lsa)):\n",
        "    print(\"Topic {}: \".format(i+1), top_n_words_lsa[i])"
      ],
      "execution_count": 0,
      "outputs": [
        {
          "output_type": "stream",
          "text": [
            "Topic 1:  data driven addition\n",
            "Topic 2:  experience datasets text\n",
            "Topic 3:  analytics oscar analysis\n",
            "Topic 4:  health models care\n",
            "Topic 5:  work product business\n",
            "Topic 6:  new team projects\n"
          ],
          "name": "stdout"
        }
      ]
    },
    {
      "cell_type": "code",
      "metadata": {
        "id": "dyNoC5l055wh",
        "colab_type": "code",
        "outputId": "c9d40f9f-627b-4aca-d495-c701820e5faa",
        "colab": {
          "base_uri": "https://localhost:8080/",
          "height": 510
        }
      },
      "source": [
        "top_3_words = get_top_n_words(3, lsa_keys, document_term_matrix, tfidf_vectorizer)\n",
        "labels = ['Topic {}: \\n'.format(i) + top_3_words[i] for i in lsa_categories]\n",
        "\n",
        "fig, ax = plt.subplots(figsize=(16,8))\n",
        "ax.bar(lsa_categories, lsa_counts);\n",
        "ax.set_xticks(lsa_categories);\n",
        "ax.set_xticklabels(labels);\n",
        "ax.set_ylabel('Number of review text');\n",
        "ax.set_title('LSA topic counts');\n",
        "plt.show();"
      ],
      "execution_count": 0,
      "outputs": [
        {
          "output_type": "display_data",
          "data": {
            "image/png": "[encoded data removed]",
            "text/plain": [
              "<Figure size 1152x576 with 1 Axes>"
            ]
          },
          "metadata": {
            "tags": []
          }
        }
      ]
    },
    {
      "cell_type": "code",
      "metadata": {
        "id": "nWcBZI-T59vT",
        "colab_type": "code",
        "colab": {}
      },
      "source": [
        "df_hc = pd.DataFrame(word_clean(df_clean, 'Healthcare'), columns=['names'])"
      ],
      "execution_count": 0,
      "outputs": []
    },
    {
      "cell_type": "code",
      "metadata": {
        "id": "Qw5Fp6QO7A02",
        "colab_type": "code",
        "outputId": "5c444b02-ef5d-47c2-91a1-f5cb53c1c7a8",
        "colab": {
          "base_uri": "https://localhost:8080/",
          "height": 191
        }
      },
      "source": [
        "df_hc.head()"
      ],
      "execution_count": 0,
      "outputs": [
        {
          "output_type": "execute_result",
          "data": {
            "text/html": [
              "<div>\n",
              "<style scoped>\n",
              "    .dataframe tbody tr th:only-of-type {\n",
              "        vertical-align: middle;\n",
              "    }\n",
              "\n",
              "    .dataframe tbody tr th {\n",
              "        vertical-align: top;\n",
              "    }\n",
              "\n",
              "    .dataframe thead th {\n",
              "        text-align: right;\n",
              "    }\n",
              "</style>\n",
              "<table border=\"1\" class=\"dataframe\">\n",
              "  <thead>\n",
              "    <tr style=\"text-align: right;\">\n",
              "      <th></th>\n",
              "      <th>names</th>\n",
              "    </tr>\n",
              "  </thead>\n",
              "  <tbody>\n",
              "    <tr>\n",
              "      <th>0</th>\n",
              "      <td>novo</td>\n",
              "    </tr>\n",
              "    <tr>\n",
              "      <th>1</th>\n",
              "      <td>nordisk,</td>\n",
              "    </tr>\n",
              "    <tr>\n",
              "      <th>2</th>\n",
              "      <td>clinical,</td>\n",
              "    </tr>\n",
              "    <tr>\n",
              "      <th>3</th>\n",
              "      <td>medical</td>\n",
              "    </tr>\n",
              "    <tr>\n",
              "      <th>4</th>\n",
              "      <td>regulatory</td>\n",
              "    </tr>\n",
              "  </tbody>\n",
              "</table>\n",
              "</div>"
            ],
            "text/plain": [
              "        names\n",
              "0        novo\n",
              "1    nordisk,\n",
              "2   clinical,\n",
              "3     medical\n",
              "4  regulatory"
            ]
          },
          "metadata": {
            "tags": []
          },
          "execution_count": 230
        }
      ]
    },
    {
      "cell_type": "code",
      "metadata": {
        "id": "1pmVhtJH7W6W",
        "colab_type": "code",
        "outputId": "9663ea9b-1a2b-4395-972d-235c411c5e25",
        "colab": {
          "base_uri": "https://localhost:8080/",
          "height": 358
        }
      },
      "source": [
        "df_hc['names'].value_counts().nlargest(20)"
      ],
      "execution_count": 0,
      "outputs": [
        {
          "output_type": "execute_result",
          "data": {
            "text/plain": [
              "data           66\n",
              "experience     35\n",
              "analytics      26\n",
              "work           26\n",
              "new            25\n",
              "health         25\n",
              "product        19\n",
              "team           18\n",
              "statistical    15\n",
              "business       15\n",
              "strong         11\n",
              "healthcare     11\n",
              "years          11\n",
              "develop        10\n",
              "care           10\n",
              "models         10\n",
              "development    10\n",
              "people         10\n",
              "analysis        9\n",
              "-               9\n",
              "Name: names, dtype: int64"
            ]
          },
          "metadata": {
            "tags": []
          },
          "execution_count": 231
        }
      ]
    },
    {
      "cell_type": "code",
      "metadata": {
        "id": "K8bTZhh97nuW",
        "colab_type": "code",
        "colab": {}
      },
      "source": [
        ""
      ],
      "execution_count": 0,
      "outputs": []
    }
  ]
}